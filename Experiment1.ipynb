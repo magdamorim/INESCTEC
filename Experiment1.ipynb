{
  "nbformat": 4,
  "nbformat_minor": 0,
  "metadata": {
    "colab": {
      "provenance": [],
      "gpuType": "T4",
      "authorship_tag": "ABX9TyPWvmULpRY4RmriNH2K7u3w",
      "include_colab_link": true
    },
    "kernelspec": {
      "name": "python3",
      "display_name": "Python 3"
    },
    "language_info": {
      "name": "python"
    },
    "accelerator": "GPU"
  },
  "cells": [
    {
      "cell_type": "markdown",
      "metadata": {
        "id": "view-in-github",
        "colab_type": "text"
      },
      "source": [
        "<a href=\"https://colab.research.google.com/github/magdamorim/INESCTEC/blob/main/Experiment1.ipynb\" target=\"_parent\"><img src=\"https://colab.research.google.com/assets/colab-badge.svg\" alt=\"Open In Colab\"/></a>"
      ]
    },
    {
      "cell_type": "code",
      "execution_count": 93,
      "metadata": {
        "id": "xX_qOUb9wgRJ"
      },
      "outputs": [],
      "source": [
        "# imports\n",
        "import numpy as np\n",
        "from datasets import load_dataset\n",
        "import torch\n",
        "from datasets import load_dataset\n",
        "from PIL import Image\n",
        "from transformers import CLIPProcessor, CLIPModel,GPT2Tokenizer, GPT2Model\n",
        "import matplotlib.pyplot as plt\n",
        "import torch\n",
        "from datasets import load_dataset\n",
        "from transformers import ViTImageProcessor, ViTModel\n",
        "from PIL import Image\n",
        "import numpy as np\n",
        "import torch"
      ]
    },
    {
      "cell_type": "code",
      "source": [
        "# Load the Fashion MNIST dataset\n",
        "dataset = load_dataset(\"fashion_mnist\")"
      ],
      "metadata": {
        "id": "NonDOtubxHqC"
      },
      "execution_count": 94,
      "outputs": []
    },
    {
      "cell_type": "code",
      "source": [
        "classes=[\"T-shirt/top\", \"Trouser\", \"Pullover\", \"Dress\", \"Coat\", \"Sandal\", \"Shirt\", \"Sneaker\", \"Bag\", \"Ankle boot\"]\n",
        "# Function to plot an image\n",
        "def show_image(image, label):\n",
        "    plt.imshow(image, cmap='gray')\n",
        "    plt.title(f\"Label:{label} : {classes[label]}\")\n",
        "    plt.axis('off')\n",
        "    plt.show()\n",
        "\n",
        "# Load an example image and label\n",
        "example = dataset['train'][100]\n",
        "image = example['image']\n",
        "label = example['label']\n",
        "\n",
        "# Display the image\n",
        "show_image(image, label)\n"
      ],
      "metadata": {
        "colab": {
          "base_uri": "https://localhost:8080/",
          "height": 428
        },
        "id": "J0hPuLJoxXfI",
        "outputId": "15b1233c-0a7c-40d5-96ac-c06feed4fa8d"
      },
      "execution_count": 95,
      "outputs": [
        {
          "output_type": "display_data",
          "data": {
            "text/plain": [
              "<Figure size 640x480 with 1 Axes>"
            ],
            "image/png": "[encoded data removed]"
          },
          "metadata": {}
        }
      ]
    },
    {
      "cell_type": "markdown",
      "source": [
        "#### Download models pretrained"
      ],
      "metadata": {
        "id": "nyDLQ26gClzf"
      }
    },
    {
      "cell_type": "code",
      "source": [
        "\n",
        "\n",
        "# Load the CLIP model with ViT-B-32. # CLIP\n",
        "model_clip = CLIPModel.from_pretrained(\"openai/clip-vit-base-patch32\")\n",
        "# Initialize the ViT processor and model # IMAGE ENCODER\n",
        "processor = ViTImageProcessor.from_pretrained(\"google/vit-base-patch16-224-in21k\")\n",
        "model_image_encoder = ViTModel.from_pretrained(\"google/vit-base-patch16-224-in21k\")\n",
        "\n",
        "\n",
        "# Load the GPT-2 model and tokenizer TEXT ENCODER\n",
        "gpt_tokenizer = GPT2Tokenizer.from_pretrained(\"gpt2\") # breaks text into tokens and gives qual attention\n",
        "gpt_model = GPT2Model.from_pretrained(\"gpt2\") # pretreained model\n",
        "\n"
      ],
      "metadata": {
        "id": "jzm3MY0PxbV-"
      },
      "execution_count": 96,
      "outputs": []
    },
    {
      "cell_type": "code",
      "source": [],
      "metadata": {
        "id": "furbuy2kCdEr"
      },
      "execution_count": 96,
      "outputs": []
    },
    {
      "cell_type": "markdown",
      "source": [
        "The tokenizer splits the text into tokens and gives an ID according to vocabulary. Example 32 means start sequence. Then it gives a constant attention mask that changes when applying the model to give attention to certain words."
      ],
      "metadata": {
        "id": "J1hY_IBy6Xhd"
      }
    },
    {
      "cell_type": "markdown",
      "source": [
        "### TEXT ENCODER"
      ],
      "metadata": {
        "id": "qcKgnYRrBpdY"
      }
    },
    {
      "cell_type": "code",
      "source": [
        "# Example text\n",
        "text = \"A stylish shirt for a casual look.\"\n",
        "text=classes[label]\n",
        "\n",
        "\n",
        "inputs = gpt_tokenizer(text, return_tensors=\"pt\")\n",
        "\n",
        "# Forward pass through the model\n",
        "# disable the gradient because is zero shoot training so just run model without training\n",
        "# it allows faster computation without gradient\n",
        "with torch.no_grad():\n",
        "    outputs = gpt_model(**inputs)\n",
        "\n",
        "# Extract the features (hidden states)\n",
        "# outputs have everything like attention scores, etc.\n",
        "features = outputs.last_hidden_state\n"
      ],
      "metadata": {
        "id": "71rgAdYqz4CY"
      },
      "execution_count": 97,
      "outputs": []
    },
    {
      "cell_type": "code",
      "source": [
        "inputs[\"attention_mask\"]"
      ],
      "metadata": {
        "colab": {
          "base_uri": "https://localhost:8080/"
        },
        "id": "9c9hK7qY0GuF",
        "outputId": "861703c6-8930-4d3d-ab97-81df46f86f6a"
      },
      "execution_count": 98,
      "outputs": [
        {
          "output_type": "execute_result",
          "data": {
            "text/plain": [
              "tensor([[1, 1]])"
            ]
          },
          "metadata": {},
          "execution_count": 98
        }
      ]
    },
    {
      "cell_type": "code",
      "source": [
        "features"
      ],
      "metadata": {
        "colab": {
          "base_uri": "https://localhost:8080/"
        },
        "id": "p68jlfH79B1W",
        "outputId": "f5ce26d3-a28b-47b2-8719-ef218f0c4b07"
      },
      "execution_count": 99,
      "outputs": [
        {
          "output_type": "execute_result",
          "data": {
            "text/plain": [
              "tensor([[[-0.1427, -0.0256, -0.2602,  ..., -0.1504, -0.0064, -0.0070],\n",
              "         [ 0.4898, -0.7599,  0.0847,  ..., -0.0113, -0.5079, -0.2114]]])"
            ]
          },
          "metadata": {},
          "execution_count": 99
        }
      ]
    },
    {
      "cell_type": "code",
      "source": [
        "print(gpt_model)"
      ],
      "metadata": {
        "colab": {
          "base_uri": "https://localhost:8080/"
        },
        "id": "2NghI2M-5NwC",
        "outputId": "37fcd677-3515-461c-9f30-c370e79b6732"
      },
      "execution_count": 100,
      "outputs": [
        {
          "output_type": "stream",
          "name": "stdout",
          "text": [
            "GPT2Model(\n",
            "  (wte): Embedding(50257, 768)\n",
            "  (wpe): Embedding(1024, 768)\n",
            "  (drop): Dropout(p=0.1, inplace=False)\n",
            "  (h): ModuleList(\n",
            "    (0-11): 12 x GPT2Block(\n",
            "      (ln_1): LayerNorm((768,), eps=1e-05, elementwise_affine=True)\n",
            "      (attn): GPT2Attention(\n",
            "        (c_attn): Conv1D()\n",
            "        (c_proj): Conv1D()\n",
            "        (attn_dropout): Dropout(p=0.1, inplace=False)\n",
            "        (resid_dropout): Dropout(p=0.1, inplace=False)\n",
            "      )\n",
            "      (ln_2): LayerNorm((768,), eps=1e-05, elementwise_affine=True)\n",
            "      (mlp): GPT2MLP(\n",
            "        (c_fc): Conv1D()\n",
            "        (c_proj): Conv1D()\n",
            "        (act): NewGELUActivation()\n",
            "        (dropout): Dropout(p=0.1, inplace=False)\n",
            "      )\n",
            "    )\n",
            "  )\n",
            "  (ln_f): LayerNorm((768,), eps=1e-05, elementwise_affine=True)\n",
            ")\n"
          ]
        }
      ]
    },
    {
      "cell_type": "markdown",
      "source": [
        "### IMAGE ENCODER"
      ],
      "metadata": {
        "id": "5CETAspOBm2x"
      }
    },
    {
      "cell_type": "code",
      "source": [
        "# Example preprocessing function for images\n",
        "def preprocess_image(image_array):\n",
        "    # Convert numpy array to PIL image\n",
        "    image = Image.fromarray(np.uint8(image_array), mode=\"L\").convert(\"RGB\")\n",
        "    inputs = processor(images=image, return_tensors=\"pt\")\n",
        "    return inputs\n",
        "\n",
        "# Preprocess the first image in the dataset\n",
        "image = dataset['train'][0]['image']\n",
        "image_inputs = preprocess_image(image)\n",
        "\n",
        "# Forward pass through the ViT model\n",
        "with torch.no_grad():\n",
        "    outputs = model_image_encoder(**image_inputs)\n",
        "\n",
        "# Extract the features from the last hidden state\n",
        "image_features = outputs.last_hidden_state\n",
        "\n",
        "# Now you have the image features\n",
        "print(image_features)\n",
        "\n"
      ],
      "metadata": {
        "colab": {
          "base_uri": "https://localhost:8080/"
        },
        "id": "W-pv2SXD70pl",
        "outputId": "6b5a5812-efe0-40c3-fa6a-7c0abfa2130e"
      },
      "execution_count": 101,
      "outputs": [
        {
          "output_type": "stream",
          "name": "stdout",
          "text": [
            "tensor([[[ 0.2964,  0.1555, -0.1476,  ..., -0.0137, -0.1118, -0.0617],\n",
            "         [ 0.2291,  0.1328, -0.1272,  ..., -0.1577,  0.0556, -0.0293],\n",
            "         [ 0.0217,  0.1546, -0.1513,  ..., -0.2677,  0.2969,  0.0590],\n",
            "         ...,\n",
            "         [ 0.1883,  0.1592, -0.1517,  ..., -0.2992,  0.2873, -0.0099],\n",
            "         [ 0.1598,  0.1350, -0.0992,  ..., -0.2464,  0.3216, -0.0131],\n",
            "         [ 0.2415,  0.0390, -0.0826,  ..., -0.1469,  0.3982,  0.0012]]])\n"
          ]
        }
      ]
    },
    {
      "cell_type": "code",
      "source": [],
      "metadata": {
        "id": "K42RQg2-CxQv"
      },
      "execution_count": 101,
      "outputs": []
    }
  ]
}