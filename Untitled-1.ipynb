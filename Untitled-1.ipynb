{
 "cells": [
  {
   "cell_type": "code",
   "execution_count": 198,
   "metadata": {},
   "outputs": [],
   "source": [
    "import torch\n",
    "import torch.optim as optim\n",
    "import torch.nn as nn\n",
    "from tqdm import tqdm\n",
    "from sklearn.metrics import accuracy_score\n",
    "from sklearn.preprocessing import MultiLabelBinarizer\n",
    "from torch.utils.data import Dataset, DataLoader\n",
    "import numpy as np\n",
    "import pickle\n",
    "from sklearn.preprocessing import StandardScaler\n",
    "\n",
    "import torch\n",
    "import torch.nn as nn\n",
    "import torch.nn.functional as F\n",
    "\n",
    "import torch\n",
    "import torch.nn as nn\n",
    "import torch.nn.functional as F\n",
    "import torch\n",
    "import torch.nn as nn\n",
    "import torch.nn.functional as F\n",
    "\n",
    "import torch\n",
    "import torch.nn as nn\n",
    "import torch.nn.functional as F\n",
    "\n",
    "import torch\n",
    "import torch.nn as nn\n",
    "import torch.nn.functional as F\n",
    "\n",
    "  \n",
    "import torch\n",
    "import torch.nn as nn\n",
    "import torch.nn.functional as F"
   ]
  },
  {
   "cell_type": "code",
   "execution_count": null,
   "metadata": {},
   "outputs": [],
   "source": [
    "import torch\n",
    "import torch.optim as optim\n",
    "import torch.nn as nn\n",
    "from tqdm import tqdm\n",
    "from sklearn.metrics import accuracy_score\n",
    "from sklearn.preprocessing import MultiLabelBinarizer\n",
    "from torch.utils.data import Dataset, DataLoader\n",
    "import numpy as np\n",
    "import pickle\n",
    "from sklearn.preprocessing import StandardScaler\n",
    "\n",
    "import torch\n",
    "import torch.nn as nn\n",
    "import torch.nn.functional as F\n",
    "\n",
    "import torch\n",
    "import torch.nn as nn\n",
    "import torch.nn.functional as F\n",
    "import torch\n",
    "import torch.nn as nn\n",
    "import torch.nn.functional as F\n",
    "\n",
    "import torch\n",
    "import torch.nn as nn\n",
    "import torch.nn.functional as F\n",
    "\n",
    "import torch\n",
    "import torch.nn as nn\n",
    "import torch.nn.functional as F\n",
    "\n",
    "  \n",
    "import torch\n",
    "import torch.nn as nn\n",
    "import torch.nn.functional as F"
   ]
  },
  {
   "cell_type": "code",
   "execution_count": 199,
   "metadata": {},
   "outputs": [],
   "source": [
    "import torch\n",
    "import torch.nn as nn\n",
    "import torch.nn.functional as F\n",
    "\n",
    "class Model(nn.Module):\n",
    "    def __init__(self, text_dim: int = 768, image_dim: int = 768, fusion_dim: int = 256, hidden_dim: int = 512, num_labels: int = 17, num_heads: int = 8):\n",
    "        super(Model, self).__init__()\n",
    "        \n",
    "        # Text and Image Feature Extractors\n",
    "        self.text_fc1 = nn.Linear(text_dim, hidden_dim)\n",
    "        self.image_fc1 = nn.Linear(image_dim, hidden_dim)\n",
    "\n",
    "        # Batch Normalization\n",
    "        self.batch_norm_text1 = nn.BatchNorm1d(hidden_dim)\n",
    "        self.batch_norm_image1 = nn.BatchNorm1d(hidden_dim)\n",
    "        \n",
    "        # Multihead Attention Layer\n",
    "        self.embed_dim = hidden_dim  # Must match the hidden_dim\n",
    "        self.num_heads = num_heads\n",
    "        self.multihead_attn = nn.MultiheadAttention(embed_dim=self.embed_dim, num_heads=self.num_heads, batch_first=True)\n",
    "\n",
    "        # Fusion and Classification Layers\n",
    "        self.fusion_fc1 = nn.Linear(hidden_dim, fusion_dim)  # Input to this layer is hidden_dim\n",
    "        self.layer_norm_fusion = nn.LayerNorm(fusion_dim)\n",
    "        \n",
    "        self.classification_fc = nn.Linear(fusion_dim, num_labels)\n",
    "\n",
    "    def forward(self, text_input: torch.Tensor, image_input: torch.Tensor) -> torch.Tensor:\n",
    "        # Text Features Extraction\n",
    "        text_features = F.relu(self.text_fc1(text_input))\n",
    "        text_features = self.batch_norm_text1(text_features)\n",
    "        \n",
    "        # Image Features Extraction\n",
    "        image_features = F.relu(self.image_fc1(image_input))\n",
    "        image_features = self.batch_norm_image1(image_features)\n",
    "        \n",
    "        # Combine Features\n",
    "        combined_features = torch.cat((text_features.unsqueeze(1), image_features.unsqueeze(1)), dim=1)  # Shape: (batch_size, 2, hidden_dim)\n",
    "        \n",
    "        # Multihead Attention\n",
    "        attn_output, _ = self.multihead_attn(combined_features, combined_features, combined_features)\n",
    "        attn_output = attn_output[:, 0, :]  # Select the output of the first feature (text)\n",
    "        \n",
    "        # Fusion Layer\n",
    "        fusion_features = F.relu(self.fusion_fc1(attn_output))\n",
    "        fusion_features = self.layer_norm_fusion(fusion_features)\n",
    "\n",
    "        # Classification\n",
    "        logits = self.classification_fc(fusion_features)\n",
    "        \n",
    "        # Apply sigmoid to logits for multi-label classification\n",
    "        output = torch.sigmoid(logits)  # Sigmoid ensures output is in the range [0, 1] for each label\n",
    "        \n",
    "        return output\n",
    "\n"
   ]
  },
  {
   "cell_type": "code",
   "execution_count": 206,
   "metadata": {},
   "outputs": [],
   "source": [
    "\n",
    "\n",
    "class CustomDataset(Dataset):\n",
    "    def __init__(self, text_features, image_features, labels):\n",
    "        self.text_features = text_features\n",
    "        self.image_features = image_features\n",
    "        self.labels = labels\n",
    "\n",
    "    def __len__(self):\n",
    "        return len(self.labels)\n",
    "\n",
    "    def __getitem__(self, index):\n",
    "        text_data = self.text_features[index]\n",
    "        image_data = self.image_features[index]\n",
    "        label = self.labels[index]\n",
    "        return text_data, image_data, label\n",
    "\n",
    "class Train:\n",
    "    def __init__(self):\n",
    "        with open(\"/Users/magdaamorim/Desktop/Master Thesis/Git Repos/QUILT-1M/files/labels_train.pkl\", 'rb') as file:\n",
    "            self.labels = pickle.load(file)\n",
    "        \n",
    "        self.image_features = np.load(\"/Users/magdaamorim/Desktop/Master Thesis/Git Repos/QUILT-1M/files/image_features_train.npy\")\n",
    "        self.text_features = np.load(\"/Users/magdaamorim/Desktop/Master Thesis/Git Repos/QUILT-1M/files/text_features_train.npy\")\n",
    "        self.scaler_image = StandardScaler()\n",
    "        self.scaler_text = StandardScaler()\n",
    "\n",
    "        self.image_features = self.scaler_image.fit_transform(self.image_features)\n",
    "        self.text_features = self.scaler_text.fit_transform(self.text_features)\n",
    "        \n",
    "        \n",
    "        self.image_features = torch.tensor(self.image_features, dtype=torch.float32)\n",
    "        self.text_features = torch.tensor(self.text_features, dtype=torch.float32)\n",
    "        \n",
    "        self.mlb = MultiLabelBinarizer()\n",
    "        self.labels = self.mlb.fit_transform(self.labels)\n",
    "        self.labels = torch.tensor(self.labels, dtype=torch.float32)\n",
    "        \n",
    "        self.dataset = CustomDataset(self.text_features, self.image_features, self.labels)\n",
    "        self.dataloader = DataLoader(self.dataset, batch_size=32, shuffle=True)\n",
    "        \n",
    "        self.model = Model()\n",
    "        self.criterion = nn.BCEWithLogitsLoss()\n",
    "        self.optimizer = optim.Adam(self.model.parameters(), lr=0.001)\n",
    "        \n",
    "        self.device = torch.device(\"cuda\" if torch.cuda.is_available() else \"cpu\")\n",
    "        self.model.to(self.device)\n",
    "\n",
    "    def train(self, epochs=10):\n",
    "        self.model.train()\n",
    "        \n",
    "        for epoch in range(epochs):\n",
    "            running_loss = 0.0\n",
    "            for text_data, image_data, labels in tqdm(self.dataloader):\n",
    "                text_data = text_data.to(self.device)\n",
    "                image_data = image_data.to(self.device)\n",
    "                labels = labels.to(self.device)\n",
    "                \n",
    "                self.optimizer.zero_grad()\n",
    "                \n",
    "                outputs = self.model(text_data, image_data)\n",
    "                #print('outputs')\n",
    "                #print(outputs)\n",
    "                #print('labels')\n",
    "                #print(labels)\n",
    "                loss = self.criterion(outputs, labels)\n",
    "                \n",
    "                loss.backward()\n",
    "\n",
    "                # Inspect gradients\n",
    "              #  for name, param in self.model.named_parameters():\n",
    "              #      if param.grad is not None:\n",
    "                       # print(f\"{name}: {param.grad.norm().item()}\")\n",
    "               #     else:\n",
    "                       # print(f\"{name}: No gradient\")\n",
    "\n",
    "                self.optimizer.step()\n",
    "                \n",
    "                running_loss += loss.item()\n",
    "            \n",
    "            epoch_loss = running_loss / len(self.dataloader)\n",
    "            print(f\"Epoch [{epoch + 1}/{epochs}], Loss: {epoch_loss:.4f}\")\n",
    "\n",
    "        print(\"Training complete.\")\n",
    "    def evaluate(self):\n",
    "        self.model.eval()\n",
    "        \n",
    "        all_labels = []\n",
    "        all_predictions = []\n",
    "\n",
    "        with torch.no_grad():\n",
    "            for text_data, image_data, labels in tqdm(self.dataloader):\n",
    "                text_data = text_data.to(self.device)\n",
    "                image_data = image_data.to(self.device)\n",
    "                labels = labels.to(self.device)\n",
    "\n",
    "                probabilities = self.model(text_data, image_data)\n",
    "                print(labels)\n",
    "                print(probabilities)\n",
    "               \n",
    "                \n",
    "                predictions = (probabilities > 0.5).float()\n",
    "\n",
    "                all_labels.append(labels.cpu().numpy())\n",
    "                all_predictions.append(predictions.cpu().numpy())\n",
    "\n",
    "        all_labels = np.vstack(all_labels)\n",
    "        all_predictions = np.vstack(all_predictions)\n",
    "       \n",
    "\n",
    "        accuracy = accuracy_score(all_labels, all_predictions)\n",
    "        print(f\"Training set accuracy: {accuracy:.4f}\")\n",
    "\n",
    "    def print_mapping_labels(self):\n",
    "        label_names = self.mlb.classes_\n",
    "        for idx, label in enumerate(label_names):\n",
    "            print(f\"Index {idx}: {label}\")\n",
    "        print(\"Label mapping:\")\n",
    "        print(label_names)\n"
   ]
  },
  {
   "cell_type": "code",
   "execution_count": 207,
   "metadata": {},
   "outputs": [
    {
     "name": "stderr",
     "output_type": "stream",
     "text": [
      "100%|██████████| 4/4 [00:00<00:00, 19.72it/s]\n"
     ]
    },
    {
     "name": "stdout",
     "output_type": "stream",
     "text": [
      "Epoch [1/100], Loss: 0.8469\n"
     ]
    },
    {
     "name": "stderr",
     "output_type": "stream",
     "text": [
      "100%|██████████| 4/4 [00:00<00:00, 17.09it/s]\n"
     ]
    },
    {
     "name": "stdout",
     "output_type": "stream",
     "text": [
      "Epoch [2/100], Loss: 0.7591\n"
     ]
    },
    {
     "name": "stderr",
     "output_type": "stream",
     "text": [
      "100%|██████████| 4/4 [00:00<00:00, 28.38it/s]\n"
     ]
    },
    {
     "name": "stdout",
     "output_type": "stream",
     "text": [
      "Epoch [3/100], Loss: 0.7209\n"
     ]
    },
    {
     "name": "stderr",
     "output_type": "stream",
     "text": [
      "100%|██████████| 4/4 [00:00<00:00, 12.38it/s]\n"
     ]
    },
    {
     "name": "stdout",
     "output_type": "stream",
     "text": [
      "Epoch [4/100], Loss: 0.6954\n"
     ]
    },
    {
     "name": "stderr",
     "output_type": "stream",
     "text": [
      "100%|██████████| 4/4 [00:00<00:00, 11.21it/s]\n"
     ]
    },
    {
     "name": "stdout",
     "output_type": "stream",
     "text": [
      "Epoch [5/100], Loss: 0.6808\n"
     ]
    },
    {
     "name": "stderr",
     "output_type": "stream",
     "text": [
      "100%|██████████| 4/4 [00:00<00:00, 20.68it/s]\n"
     ]
    },
    {
     "name": "stdout",
     "output_type": "stream",
     "text": [
      "Epoch [6/100], Loss: 0.6704\n"
     ]
    },
    {
     "name": "stderr",
     "output_type": "stream",
     "text": [
      "100%|██████████| 4/4 [00:00<00:00, 13.40it/s]\n"
     ]
    },
    {
     "name": "stdout",
     "output_type": "stream",
     "text": [
      "Epoch [7/100], Loss: 0.6616\n"
     ]
    },
    {
     "name": "stderr",
     "output_type": "stream",
     "text": [
      "100%|██████████| 4/4 [00:00<00:00, 22.39it/s]\n"
     ]
    },
    {
     "name": "stdout",
     "output_type": "stream",
     "text": [
      "Epoch [8/100], Loss: 0.6570\n"
     ]
    },
    {
     "name": "stderr",
     "output_type": "stream",
     "text": [
      "100%|██████████| 4/4 [00:00<00:00, 21.51it/s]\n"
     ]
    },
    {
     "name": "stdout",
     "output_type": "stream",
     "text": [
      "Epoch [9/100], Loss: 0.6514\n"
     ]
    },
    {
     "name": "stderr",
     "output_type": "stream",
     "text": [
      "100%|██████████| 4/4 [00:00<00:00, 21.58it/s]\n"
     ]
    },
    {
     "name": "stdout",
     "output_type": "stream",
     "text": [
      "Epoch [10/100], Loss: 0.6480\n"
     ]
    },
    {
     "name": "stderr",
     "output_type": "stream",
     "text": [
      "100%|██████████| 4/4 [00:00<00:00, 33.81it/s]\n"
     ]
    },
    {
     "name": "stdout",
     "output_type": "stream",
     "text": [
      "Epoch [11/100], Loss: 0.6473\n"
     ]
    },
    {
     "name": "stderr",
     "output_type": "stream",
     "text": [
      "100%|██████████| 4/4 [00:00<00:00, 16.28it/s]\n"
     ]
    },
    {
     "name": "stdout",
     "output_type": "stream",
     "text": [
      "Epoch [12/100], Loss: 0.6451\n"
     ]
    },
    {
     "name": "stderr",
     "output_type": "stream",
     "text": [
      "100%|██████████| 4/4 [00:00<00:00, 18.52it/s]\n"
     ]
    },
    {
     "name": "stdout",
     "output_type": "stream",
     "text": [
      "Epoch [13/100], Loss: 0.6443\n"
     ]
    },
    {
     "name": "stderr",
     "output_type": "stream",
     "text": [
      "100%|██████████| 4/4 [00:00<00:00, 35.07it/s]\n"
     ]
    },
    {
     "name": "stdout",
     "output_type": "stream",
     "text": [
      "Epoch [14/100], Loss: 0.6441\n"
     ]
    },
    {
     "name": "stderr",
     "output_type": "stream",
     "text": [
      "100%|██████████| 4/4 [00:00<00:00, 23.54it/s]\n"
     ]
    },
    {
     "name": "stdout",
     "output_type": "stream",
     "text": [
      "Epoch [15/100], Loss: 0.6429\n"
     ]
    },
    {
     "name": "stderr",
     "output_type": "stream",
     "text": [
      "100%|██████████| 4/4 [00:00<00:00, 25.43it/s]\n"
     ]
    },
    {
     "name": "stdout",
     "output_type": "stream",
     "text": [
      "Epoch [16/100], Loss: 0.6397\n"
     ]
    },
    {
     "name": "stderr",
     "output_type": "stream",
     "text": [
      "100%|██████████| 4/4 [00:00<00:00, 25.36it/s]\n"
     ]
    },
    {
     "name": "stdout",
     "output_type": "stream",
     "text": [
      "Epoch [17/100], Loss: 0.6412\n"
     ]
    },
    {
     "name": "stderr",
     "output_type": "stream",
     "text": [
      "100%|██████████| 4/4 [00:00<00:00, 27.84it/s]\n"
     ]
    },
    {
     "name": "stdout",
     "output_type": "stream",
     "text": [
      "Epoch [18/100], Loss: 0.6408\n"
     ]
    },
    {
     "name": "stderr",
     "output_type": "stream",
     "text": [
      "100%|██████████| 4/4 [00:00<00:00, 31.33it/s]\n"
     ]
    },
    {
     "name": "stdout",
     "output_type": "stream",
     "text": [
      "Epoch [19/100], Loss: 0.6382\n"
     ]
    },
    {
     "name": "stderr",
     "output_type": "stream",
     "text": [
      "100%|██████████| 4/4 [00:00<00:00, 28.74it/s]\n"
     ]
    },
    {
     "name": "stdout",
     "output_type": "stream",
     "text": [
      "Epoch [20/100], Loss: 0.6432\n"
     ]
    },
    {
     "name": "stderr",
     "output_type": "stream",
     "text": [
      "100%|██████████| 4/4 [00:00<00:00, 30.73it/s]\n"
     ]
    },
    {
     "name": "stdout",
     "output_type": "stream",
     "text": [
      "Epoch [21/100], Loss: 0.6379\n"
     ]
    },
    {
     "name": "stderr",
     "output_type": "stream",
     "text": [
      "100%|██████████| 4/4 [00:00<00:00, 30.35it/s]\n"
     ]
    },
    {
     "name": "stdout",
     "output_type": "stream",
     "text": [
      "Epoch [22/100], Loss: 0.6415\n"
     ]
    },
    {
     "name": "stderr",
     "output_type": "stream",
     "text": [
      "100%|██████████| 4/4 [00:00<00:00, 27.95it/s]\n"
     ]
    },
    {
     "name": "stdout",
     "output_type": "stream",
     "text": [
      "Epoch [23/100], Loss: 0.6405\n"
     ]
    },
    {
     "name": "stderr",
     "output_type": "stream",
     "text": [
      "100%|██████████| 4/4 [00:00<00:00, 23.17it/s]\n"
     ]
    },
    {
     "name": "stdout",
     "output_type": "stream",
     "text": [
      "Epoch [24/100], Loss: 0.6385\n"
     ]
    },
    {
     "name": "stderr",
     "output_type": "stream",
     "text": [
      "100%|██████████| 4/4 [00:00<00:00, 26.46it/s]\n"
     ]
    },
    {
     "name": "stdout",
     "output_type": "stream",
     "text": [
      "Epoch [25/100], Loss: 0.6385\n"
     ]
    },
    {
     "name": "stderr",
     "output_type": "stream",
     "text": [
      "100%|██████████| 4/4 [00:00<00:00, 28.13it/s]\n"
     ]
    },
    {
     "name": "stdout",
     "output_type": "stream",
     "text": [
      "Epoch [26/100], Loss: 0.6383\n"
     ]
    },
    {
     "name": "stderr",
     "output_type": "stream",
     "text": [
      "100%|██████████| 4/4 [00:00<00:00, 27.67it/s]\n"
     ]
    },
    {
     "name": "stdout",
     "output_type": "stream",
     "text": [
      "Epoch [27/100], Loss: 0.6350\n"
     ]
    },
    {
     "name": "stderr",
     "output_type": "stream",
     "text": [
      "100%|██████████| 4/4 [00:00<00:00, 27.12it/s]\n"
     ]
    },
    {
     "name": "stdout",
     "output_type": "stream",
     "text": [
      "Epoch [28/100], Loss: 0.6392\n"
     ]
    },
    {
     "name": "stderr",
     "output_type": "stream",
     "text": [
      "100%|██████████| 4/4 [00:00<00:00, 30.69it/s]\n"
     ]
    },
    {
     "name": "stdout",
     "output_type": "stream",
     "text": [
      "Epoch [29/100], Loss: 0.6352\n"
     ]
    },
    {
     "name": "stderr",
     "output_type": "stream",
     "text": [
      "100%|██████████| 4/4 [00:00<00:00, 31.84it/s]\n"
     ]
    },
    {
     "name": "stdout",
     "output_type": "stream",
     "text": [
      "Epoch [30/100], Loss: 0.6351\n"
     ]
    },
    {
     "name": "stderr",
     "output_type": "stream",
     "text": [
      "100%|██████████| 4/4 [00:00<00:00, 36.56it/s]\n"
     ]
    },
    {
     "name": "stdout",
     "output_type": "stream",
     "text": [
      "Epoch [31/100], Loss: 0.6362\n"
     ]
    },
    {
     "name": "stderr",
     "output_type": "stream",
     "text": [
      "100%|██████████| 4/4 [00:00<00:00, 34.50it/s]\n"
     ]
    },
    {
     "name": "stdout",
     "output_type": "stream",
     "text": [
      "Epoch [32/100], Loss: 0.6332\n"
     ]
    },
    {
     "name": "stderr",
     "output_type": "stream",
     "text": [
      "100%|██████████| 4/4 [00:00<00:00, 35.42it/s]\n"
     ]
    },
    {
     "name": "stdout",
     "output_type": "stream",
     "text": [
      "Epoch [33/100], Loss: 0.6353\n"
     ]
    },
    {
     "name": "stderr",
     "output_type": "stream",
     "text": [
      "100%|██████████| 4/4 [00:00<00:00, 34.39it/s]\n"
     ]
    },
    {
     "name": "stdout",
     "output_type": "stream",
     "text": [
      "Epoch [34/100], Loss: 0.6342\n"
     ]
    },
    {
     "name": "stderr",
     "output_type": "stream",
     "text": [
      "100%|██████████| 4/4 [00:00<00:00, 33.46it/s]\n"
     ]
    },
    {
     "name": "stdout",
     "output_type": "stream",
     "text": [
      "Epoch [35/100], Loss: 0.6333\n"
     ]
    },
    {
     "name": "stderr",
     "output_type": "stream",
     "text": [
      "100%|██████████| 4/4 [00:00<00:00, 32.39it/s]\n"
     ]
    },
    {
     "name": "stdout",
     "output_type": "stream",
     "text": [
      "Epoch [36/100], Loss: 0.6337\n"
     ]
    },
    {
     "name": "stderr",
     "output_type": "stream",
     "text": [
      "100%|██████████| 4/4 [00:00<00:00, 24.95it/s]\n"
     ]
    },
    {
     "name": "stdout",
     "output_type": "stream",
     "text": [
      "Epoch [37/100], Loss: 0.6314\n"
     ]
    },
    {
     "name": "stderr",
     "output_type": "stream",
     "text": [
      "100%|██████████| 4/4 [00:00<00:00, 10.17it/s]\n"
     ]
    },
    {
     "name": "stdout",
     "output_type": "stream",
     "text": [
      "Epoch [38/100], Loss: 0.6324\n"
     ]
    },
    {
     "name": "stderr",
     "output_type": "stream",
     "text": [
      "100%|██████████| 4/4 [00:00<00:00, 32.28it/s]\n"
     ]
    },
    {
     "name": "stdout",
     "output_type": "stream",
     "text": [
      "Epoch [39/100], Loss: 0.6326\n"
     ]
    },
    {
     "name": "stderr",
     "output_type": "stream",
     "text": [
      "100%|██████████| 4/4 [00:00<00:00, 30.00it/s]\n"
     ]
    },
    {
     "name": "stdout",
     "output_type": "stream",
     "text": [
      "Epoch [40/100], Loss: 0.6317\n"
     ]
    },
    {
     "name": "stderr",
     "output_type": "stream",
     "text": [
      "100%|██████████| 4/4 [00:00<00:00, 33.34it/s]\n"
     ]
    },
    {
     "name": "stdout",
     "output_type": "stream",
     "text": [
      "Epoch [41/100], Loss: 0.6316\n"
     ]
    },
    {
     "name": "stderr",
     "output_type": "stream",
     "text": [
      "100%|██████████| 4/4 [00:00<00:00, 20.88it/s]\n"
     ]
    },
    {
     "name": "stdout",
     "output_type": "stream",
     "text": [
      "Epoch [42/100], Loss: 0.6313\n"
     ]
    },
    {
     "name": "stderr",
     "output_type": "stream",
     "text": [
      "100%|██████████| 4/4 [00:00<00:00, 22.83it/s]\n"
     ]
    },
    {
     "name": "stdout",
     "output_type": "stream",
     "text": [
      "Epoch [43/100], Loss: 0.6319\n"
     ]
    },
    {
     "name": "stderr",
     "output_type": "stream",
     "text": [
      "100%|██████████| 4/4 [00:00<00:00, 27.20it/s]\n"
     ]
    },
    {
     "name": "stdout",
     "output_type": "stream",
     "text": [
      "Epoch [44/100], Loss: 0.6314\n"
     ]
    },
    {
     "name": "stderr",
     "output_type": "stream",
     "text": [
      "100%|██████████| 4/4 [00:00<00:00, 34.56it/s]\n"
     ]
    },
    {
     "name": "stdout",
     "output_type": "stream",
     "text": [
      "Epoch [45/100], Loss: 0.6313\n"
     ]
    },
    {
     "name": "stderr",
     "output_type": "stream",
     "text": [
      "100%|██████████| 4/4 [00:00<00:00, 24.63it/s]\n"
     ]
    },
    {
     "name": "stdout",
     "output_type": "stream",
     "text": [
      "Epoch [46/100], Loss: 0.6301\n"
     ]
    },
    {
     "name": "stderr",
     "output_type": "stream",
     "text": [
      "100%|██████████| 4/4 [00:00<00:00, 29.46it/s]\n"
     ]
    },
    {
     "name": "stdout",
     "output_type": "stream",
     "text": [
      "Epoch [47/100], Loss: 0.6304\n"
     ]
    },
    {
     "name": "stderr",
     "output_type": "stream",
     "text": [
      "100%|██████████| 4/4 [00:00<00:00, 29.42it/s]\n"
     ]
    },
    {
     "name": "stdout",
     "output_type": "stream",
     "text": [
      "Epoch [48/100], Loss: 0.6306\n"
     ]
    },
    {
     "name": "stderr",
     "output_type": "stream",
     "text": [
      "100%|██████████| 4/4 [00:00<00:00, 26.88it/s]\n"
     ]
    },
    {
     "name": "stdout",
     "output_type": "stream",
     "text": [
      "Epoch [49/100], Loss: 0.6296\n"
     ]
    },
    {
     "name": "stderr",
     "output_type": "stream",
     "text": [
      "100%|██████████| 4/4 [00:00<00:00, 27.08it/s]\n"
     ]
    },
    {
     "name": "stdout",
     "output_type": "stream",
     "text": [
      "Epoch [50/100], Loss: 0.6299\n"
     ]
    },
    {
     "name": "stderr",
     "output_type": "stream",
     "text": [
      "100%|██████████| 4/4 [00:00<00:00, 28.67it/s]\n"
     ]
    },
    {
     "name": "stdout",
     "output_type": "stream",
     "text": [
      "Epoch [51/100], Loss: 0.6303\n"
     ]
    },
    {
     "name": "stderr",
     "output_type": "stream",
     "text": [
      "100%|██████████| 4/4 [00:00<00:00, 29.58it/s]\n"
     ]
    },
    {
     "name": "stdout",
     "output_type": "stream",
     "text": [
      "Epoch [52/100], Loss: 0.6296\n"
     ]
    },
    {
     "name": "stderr",
     "output_type": "stream",
     "text": [
      "100%|██████████| 4/4 [00:00<00:00, 15.41it/s]\n"
     ]
    },
    {
     "name": "stdout",
     "output_type": "stream",
     "text": [
      "Epoch [53/100], Loss: 0.6291\n"
     ]
    },
    {
     "name": "stderr",
     "output_type": "stream",
     "text": [
      "100%|██████████| 4/4 [00:00<00:00,  9.46it/s]\n"
     ]
    },
    {
     "name": "stdout",
     "output_type": "stream",
     "text": [
      "Epoch [54/100], Loss: 0.6292\n"
     ]
    },
    {
     "name": "stderr",
     "output_type": "stream",
     "text": [
      "100%|██████████| 4/4 [00:00<00:00,  9.94it/s]\n"
     ]
    },
    {
     "name": "stdout",
     "output_type": "stream",
     "text": [
      "Epoch [55/100], Loss: 0.6297\n"
     ]
    },
    {
     "name": "stderr",
     "output_type": "stream",
     "text": [
      "100%|██████████| 4/4 [00:00<00:00, 12.49it/s]\n"
     ]
    },
    {
     "name": "stdout",
     "output_type": "stream",
     "text": [
      "Epoch [56/100], Loss: 0.6294\n"
     ]
    },
    {
     "name": "stderr",
     "output_type": "stream",
     "text": [
      "100%|██████████| 4/4 [00:00<00:00, 23.66it/s]\n"
     ]
    },
    {
     "name": "stdout",
     "output_type": "stream",
     "text": [
      "Epoch [57/100], Loss: 0.6299\n"
     ]
    },
    {
     "name": "stderr",
     "output_type": "stream",
     "text": [
      "100%|██████████| 4/4 [00:00<00:00, 33.72it/s]\n"
     ]
    },
    {
     "name": "stdout",
     "output_type": "stream",
     "text": [
      "Epoch [58/100], Loss: 0.6306\n"
     ]
    },
    {
     "name": "stderr",
     "output_type": "stream",
     "text": [
      "100%|██████████| 4/4 [00:00<00:00, 32.37it/s]\n"
     ]
    },
    {
     "name": "stdout",
     "output_type": "stream",
     "text": [
      "Epoch [59/100], Loss: 0.6290\n"
     ]
    },
    {
     "name": "stderr",
     "output_type": "stream",
     "text": [
      "100%|██████████| 4/4 [00:00<00:00, 33.72it/s]\n"
     ]
    },
    {
     "name": "stdout",
     "output_type": "stream",
     "text": [
      "Epoch [60/100], Loss: 0.6299\n"
     ]
    },
    {
     "name": "stderr",
     "output_type": "stream",
     "text": [
      "100%|██████████| 4/4 [00:00<00:00, 19.70it/s]\n"
     ]
    },
    {
     "name": "stdout",
     "output_type": "stream",
     "text": [
      "Epoch [61/100], Loss: 0.6296\n"
     ]
    },
    {
     "name": "stderr",
     "output_type": "stream",
     "text": [
      "100%|██████████| 4/4 [00:00<00:00, 21.84it/s]\n"
     ]
    },
    {
     "name": "stdout",
     "output_type": "stream",
     "text": [
      "Epoch [62/100], Loss: 0.6293\n"
     ]
    },
    {
     "name": "stderr",
     "output_type": "stream",
     "text": [
      "100%|██████████| 4/4 [00:00<00:00, 31.18it/s]\n"
     ]
    },
    {
     "name": "stdout",
     "output_type": "stream",
     "text": [
      "Epoch [63/100], Loss: 0.6301\n"
     ]
    },
    {
     "name": "stderr",
     "output_type": "stream",
     "text": [
      "100%|██████████| 4/4 [00:00<00:00, 29.20it/s]\n"
     ]
    },
    {
     "name": "stdout",
     "output_type": "stream",
     "text": [
      "Epoch [64/100], Loss: 0.6298\n"
     ]
    },
    {
     "name": "stderr",
     "output_type": "stream",
     "text": [
      "100%|██████████| 4/4 [00:00<00:00, 25.90it/s]\n"
     ]
    },
    {
     "name": "stdout",
     "output_type": "stream",
     "text": [
      "Epoch [65/100], Loss: 0.6293\n"
     ]
    },
    {
     "name": "stderr",
     "output_type": "stream",
     "text": [
      "100%|██████████| 4/4 [00:00<00:00, 29.78it/s]\n"
     ]
    },
    {
     "name": "stdout",
     "output_type": "stream",
     "text": [
      "Epoch [66/100], Loss: 0.6301\n"
     ]
    },
    {
     "name": "stderr",
     "output_type": "stream",
     "text": [
      "100%|██████████| 4/4 [00:00<00:00, 24.97it/s]\n"
     ]
    },
    {
     "name": "stdout",
     "output_type": "stream",
     "text": [
      "Epoch [67/100], Loss: 0.6299\n"
     ]
    },
    {
     "name": "stderr",
     "output_type": "stream",
     "text": [
      "100%|██████████| 4/4 [00:00<00:00, 28.08it/s]\n"
     ]
    },
    {
     "name": "stdout",
     "output_type": "stream",
     "text": [
      "Epoch [68/100], Loss: 0.6296\n"
     ]
    },
    {
     "name": "stderr",
     "output_type": "stream",
     "text": [
      "100%|██████████| 4/4 [00:00<00:00, 23.42it/s]\n"
     ]
    },
    {
     "name": "stdout",
     "output_type": "stream",
     "text": [
      "Epoch [69/100], Loss: 0.6294\n"
     ]
    },
    {
     "name": "stderr",
     "output_type": "stream",
     "text": [
      "100%|██████████| 4/4 [00:00<00:00, 24.68it/s]\n"
     ]
    },
    {
     "name": "stdout",
     "output_type": "stream",
     "text": [
      "Epoch [70/100], Loss: 0.6300\n"
     ]
    },
    {
     "name": "stderr",
     "output_type": "stream",
     "text": [
      "100%|██████████| 4/4 [00:00<00:00, 28.40it/s]\n"
     ]
    },
    {
     "name": "stdout",
     "output_type": "stream",
     "text": [
      "Epoch [71/100], Loss: 0.6296\n"
     ]
    },
    {
     "name": "stderr",
     "output_type": "stream",
     "text": [
      "100%|██████████| 4/4 [00:00<00:00, 33.88it/s]\n"
     ]
    },
    {
     "name": "stdout",
     "output_type": "stream",
     "text": [
      "Epoch [72/100], Loss: 0.6294\n"
     ]
    },
    {
     "name": "stderr",
     "output_type": "stream",
     "text": [
      "100%|██████████| 4/4 [00:00<00:00, 13.71it/s]\n"
     ]
    },
    {
     "name": "stdout",
     "output_type": "stream",
     "text": [
      "Epoch [73/100], Loss: 0.6305\n"
     ]
    },
    {
     "name": "stderr",
     "output_type": "stream",
     "text": [
      "100%|██████████| 4/4 [00:00<00:00, 16.75it/s]\n"
     ]
    },
    {
     "name": "stdout",
     "output_type": "stream",
     "text": [
      "Epoch [74/100], Loss: 0.6286\n"
     ]
    },
    {
     "name": "stderr",
     "output_type": "stream",
     "text": [
      "100%|██████████| 4/4 [00:00<00:00, 24.11it/s]\n"
     ]
    },
    {
     "name": "stdout",
     "output_type": "stream",
     "text": [
      "Epoch [75/100], Loss: 0.6298\n"
     ]
    },
    {
     "name": "stderr",
     "output_type": "stream",
     "text": [
      "100%|██████████| 4/4 [00:00<00:00, 22.83it/s]\n"
     ]
    },
    {
     "name": "stdout",
     "output_type": "stream",
     "text": [
      "Epoch [76/100], Loss: 0.6294\n"
     ]
    },
    {
     "name": "stderr",
     "output_type": "stream",
     "text": [
      "100%|██████████| 4/4 [00:00<00:00, 20.50it/s]\n"
     ]
    },
    {
     "name": "stdout",
     "output_type": "stream",
     "text": [
      "Epoch [77/100], Loss: 0.6310\n"
     ]
    },
    {
     "name": "stderr",
     "output_type": "stream",
     "text": [
      "100%|██████████| 4/4 [00:00<00:00, 29.32it/s]\n"
     ]
    },
    {
     "name": "stdout",
     "output_type": "stream",
     "text": [
      "Epoch [78/100], Loss: 0.6296\n"
     ]
    },
    {
     "name": "stderr",
     "output_type": "stream",
     "text": [
      "100%|██████████| 4/4 [00:00<00:00, 30.54it/s]\n"
     ]
    },
    {
     "name": "stdout",
     "output_type": "stream",
     "text": [
      "Epoch [79/100], Loss: 0.6290\n"
     ]
    },
    {
     "name": "stderr",
     "output_type": "stream",
     "text": [
      "100%|██████████| 4/4 [00:00<00:00, 26.71it/s]\n"
     ]
    },
    {
     "name": "stdout",
     "output_type": "stream",
     "text": [
      "Epoch [80/100], Loss: 0.6287\n"
     ]
    },
    {
     "name": "stderr",
     "output_type": "stream",
     "text": [
      "100%|██████████| 4/4 [00:00<00:00, 22.49it/s]\n"
     ]
    },
    {
     "name": "stdout",
     "output_type": "stream",
     "text": [
      "Epoch [81/100], Loss: 0.6291\n"
     ]
    },
    {
     "name": "stderr",
     "output_type": "stream",
     "text": [
      "100%|██████████| 4/4 [00:00<00:00, 22.72it/s]\n"
     ]
    },
    {
     "name": "stdout",
     "output_type": "stream",
     "text": [
      "Epoch [82/100], Loss: 0.6295\n"
     ]
    },
    {
     "name": "stderr",
     "output_type": "stream",
     "text": [
      "100%|██████████| 4/4 [00:00<00:00, 34.54it/s]\n"
     ]
    },
    {
     "name": "stdout",
     "output_type": "stream",
     "text": [
      "Epoch [83/100], Loss: 0.6290\n"
     ]
    },
    {
     "name": "stderr",
     "output_type": "stream",
     "text": [
      "100%|██████████| 4/4 [00:00<00:00, 30.27it/s]\n"
     ]
    },
    {
     "name": "stdout",
     "output_type": "stream",
     "text": [
      "Epoch [84/100], Loss: 0.6295\n"
     ]
    },
    {
     "name": "stderr",
     "output_type": "stream",
     "text": [
      "100%|██████████| 4/4 [00:00<00:00, 26.68it/s]\n"
     ]
    },
    {
     "name": "stdout",
     "output_type": "stream",
     "text": [
      "Epoch [85/100], Loss: 0.6293\n"
     ]
    },
    {
     "name": "stderr",
     "output_type": "stream",
     "text": [
      "100%|██████████| 4/4 [00:00<00:00, 35.66it/s]\n"
     ]
    },
    {
     "name": "stdout",
     "output_type": "stream",
     "text": [
      "Epoch [86/100], Loss: 0.6298\n"
     ]
    },
    {
     "name": "stderr",
     "output_type": "stream",
     "text": [
      "100%|██████████| 4/4 [00:00<00:00, 29.79it/s]\n"
     ]
    },
    {
     "name": "stdout",
     "output_type": "stream",
     "text": [
      "Epoch [87/100], Loss: 0.6285\n"
     ]
    },
    {
     "name": "stderr",
     "output_type": "stream",
     "text": [
      "100%|██████████| 4/4 [00:00<00:00, 20.26it/s]\n"
     ]
    },
    {
     "name": "stdout",
     "output_type": "stream",
     "text": [
      "Epoch [88/100], Loss: 0.6283\n"
     ]
    },
    {
     "name": "stderr",
     "output_type": "stream",
     "text": [
      "100%|██████████| 4/4 [00:00<00:00, 25.40it/s]\n"
     ]
    },
    {
     "name": "stdout",
     "output_type": "stream",
     "text": [
      "Epoch [89/100], Loss: 0.6283\n"
     ]
    },
    {
     "name": "stderr",
     "output_type": "stream",
     "text": [
      "100%|██████████| 4/4 [00:00<00:00, 20.01it/s]\n"
     ]
    },
    {
     "name": "stdout",
     "output_type": "stream",
     "text": [
      "Epoch [90/100], Loss: 0.6283\n"
     ]
    },
    {
     "name": "stderr",
     "output_type": "stream",
     "text": [
      "100%|██████████| 4/4 [00:00<00:00, 20.35it/s]\n"
     ]
    },
    {
     "name": "stdout",
     "output_type": "stream",
     "text": [
      "Epoch [91/100], Loss: 0.6284\n"
     ]
    },
    {
     "name": "stderr",
     "output_type": "stream",
     "text": [
      "100%|██████████| 4/4 [00:00<00:00, 27.65it/s]\n"
     ]
    },
    {
     "name": "stdout",
     "output_type": "stream",
     "text": [
      "Epoch [92/100], Loss: 0.6281\n"
     ]
    },
    {
     "name": "stderr",
     "output_type": "stream",
     "text": [
      "100%|██████████| 4/4 [00:00<00:00, 17.14it/s]\n"
     ]
    },
    {
     "name": "stdout",
     "output_type": "stream",
     "text": [
      "Epoch [93/100], Loss: 0.6279\n"
     ]
    },
    {
     "name": "stderr",
     "output_type": "stream",
     "text": [
      "100%|██████████| 4/4 [00:00<00:00, 16.42it/s]\n"
     ]
    },
    {
     "name": "stdout",
     "output_type": "stream",
     "text": [
      "Epoch [94/100], Loss: 0.6286\n"
     ]
    },
    {
     "name": "stderr",
     "output_type": "stream",
     "text": [
      "100%|██████████| 4/4 [00:00<00:00, 25.22it/s]\n"
     ]
    },
    {
     "name": "stdout",
     "output_type": "stream",
     "text": [
      "Epoch [95/100], Loss: 0.6278\n"
     ]
    },
    {
     "name": "stderr",
     "output_type": "stream",
     "text": [
      "100%|██████████| 4/4 [00:00<00:00, 16.66it/s]\n"
     ]
    },
    {
     "name": "stdout",
     "output_type": "stream",
     "text": [
      "Epoch [96/100], Loss: 0.6278\n"
     ]
    },
    {
     "name": "stderr",
     "output_type": "stream",
     "text": [
      "100%|██████████| 4/4 [00:00<00:00, 21.67it/s]\n"
     ]
    },
    {
     "name": "stdout",
     "output_type": "stream",
     "text": [
      "Epoch [97/100], Loss: 0.6285\n"
     ]
    },
    {
     "name": "stderr",
     "output_type": "stream",
     "text": [
      "100%|██████████| 4/4 [00:00<00:00, 18.39it/s]\n"
     ]
    },
    {
     "name": "stdout",
     "output_type": "stream",
     "text": [
      "Epoch [98/100], Loss: 0.6276\n"
     ]
    },
    {
     "name": "stderr",
     "output_type": "stream",
     "text": [
      "100%|██████████| 4/4 [00:00<00:00, 32.77it/s]\n"
     ]
    },
    {
     "name": "stdout",
     "output_type": "stream",
     "text": [
      "Epoch [99/100], Loss: 0.6283\n"
     ]
    },
    {
     "name": "stderr",
     "output_type": "stream",
     "text": [
      "100%|██████████| 4/4 [00:00<00:00, 28.54it/s]"
     ]
    },
    {
     "name": "stdout",
     "output_type": "stream",
     "text": [
      "Epoch [100/100], Loss: 0.6290\n",
      "Training complete.\n"
     ]
    },
    {
     "name": "stderr",
     "output_type": "stream",
     "text": [
      "\n"
     ]
    }
   ],
   "source": [
    "model = Train()\n",
    "model.train(epochs=100)"
   ]
  },
  {
   "cell_type": "code",
   "execution_count": 208,
   "metadata": {},
   "outputs": [
    {
     "name": "stderr",
     "output_type": "stream",
     "text": [
      "  0%|          | 0/4 [00:00<?, ?it/s]"
     ]
    },
    {
     "name": "stdout",
     "output_type": "stream",
     "text": [
      "tensor([[0., 0., 0., 0., 1., 0., 0., 0., 0., 1., 0., 0., 0., 0., 0., 0., 1.],\n",
      "        [0., 0., 0., 1., 1., 0., 0., 1., 0., 0., 0., 0., 0., 0., 0., 0., 0.],\n",
      "        [1., 0., 0., 0., 0., 0., 0., 0., 0., 0., 1., 0., 0., 0., 0., 0., 1.],\n",
      "        [0., 0., 0., 1., 0., 1., 0., 0., 0., 1., 0., 0., 0., 0., 0., 0., 0.],\n",
      "        [0., 0., 0., 0., 1., 0., 1., 0., 0., 0., 0., 0., 0., 0., 1., 0., 0.],\n",
      "        [0., 0., 0., 0., 1., 0., 0., 0., 0., 1., 0., 0., 0., 0., 0., 0., 1.],\n",
      "        [0., 0., 1., 0., 1., 0., 0., 0., 0., 0., 0., 0., 0., 0., 1., 0., 0.],\n",
      "        [0., 0., 0., 0., 0., 0., 0., 0., 0., 0., 1., 0., 1., 1., 0., 0., 0.],\n",
      "        [1., 0., 0., 0., 0., 0., 0., 0., 0., 0., 1., 0., 0., 0., 0., 0., 1.],\n",
      "        [0., 0., 0., 0., 1., 0., 0., 0., 0., 1., 0., 0., 0., 0., 0., 0., 1.],\n",
      "        [0., 0., 0., 0., 1., 0., 0., 0., 0., 0., 0., 1., 0., 0., 0., 0., 1.],\n",
      "        [0., 0., 0., 1., 0., 1., 0., 0., 0., 1., 0., 0., 0., 0., 0., 0., 0.],\n",
      "        [0., 0., 0., 0., 1., 0., 1., 0., 0., 0., 0., 0., 0., 0., 1., 0., 0.],\n",
      "        [1., 0., 0., 0., 0., 0., 0., 0., 0., 0., 1., 0., 0., 0., 0., 0., 1.],\n",
      "        [0., 1., 0., 1., 1., 0., 0., 0., 0., 0., 0., 0., 0., 0., 0., 0., 0.],\n",
      "        [0., 0., 0., 0., 1., 0., 0., 0., 0., 1., 1., 0., 0., 0., 0., 0., 0.],\n",
      "        [1., 0., 0., 0., 0., 0., 0., 0., 0., 0., 1., 0., 0., 0., 0., 0., 1.],\n",
      "        [0., 0., 0., 0., 1., 0., 0., 0., 0., 1., 1., 0., 0., 0., 0., 0., 0.],\n",
      "        [0., 0., 0., 0., 1., 0., 0., 0., 0., 1., 1., 0., 0., 0., 0., 0., 0.],\n",
      "        [0., 0., 0., 0., 0., 0., 0., 0., 0., 0., 1., 0., 0., 1., 0., 1., 0.],\n",
      "        [0., 1., 0., 0., 1., 0., 0., 0., 0., 1., 0., 0., 0., 0., 0., 0., 0.],\n",
      "        [0., 0., 0., 0., 0., 0., 0., 0., 0., 0., 1., 0., 0., 1., 0., 1., 0.],\n",
      "        [0., 0., 0., 1., 0., 1., 0., 0., 0., 1., 0., 0., 0., 0., 0., 0., 0.],\n",
      "        [0., 0., 0., 0., 0., 0., 0., 0., 0., 0., 1., 0., 0., 0., 0., 1., 1.],\n",
      "        [0., 0., 0., 1., 0., 1., 0., 0., 0., 1., 0., 0., 0., 0., 0., 0., 0.],\n",
      "        [0., 0., 0., 0., 1., 0., 0., 0., 0., 1., 1., 0., 0., 0., 0., 0., 0.],\n",
      "        [0., 0., 0., 1., 0., 0., 0., 1., 0., 0., 0., 0., 0., 0., 0., 1., 0.],\n",
      "        [0., 1., 0., 1., 1., 0., 0., 0., 0., 0., 0., 0., 0., 0., 0., 0., 0.],\n",
      "        [1., 0., 0., 0., 0., 0., 0., 0., 0., 0., 1., 0., 0., 0., 0., 0., 1.],\n",
      "        [0., 1., 0., 1., 0., 0., 0., 0., 1., 0., 0., 0., 0., 0., 0., 0., 0.],\n",
      "        [0., 0., 0., 0., 0., 0., 0., 0., 1., 0., 0., 0., 0., 0., 0., 1., 1.],\n",
      "        [0., 0., 0., 0., 1., 0., 1., 0., 0., 0., 0., 0., 0., 0., 1., 0., 0.]])\n",
      "tensor([[9.9173e-05, 2.7755e-03, 2.5930e-04, 2.1421e-04, 9.9895e-01, 4.1592e-04,\n",
      "         7.1142e-04, 9.7168e-05, 3.7017e-04, 9.9606e-01, 2.2928e-05, 1.1275e-03,\n",
      "         1.2240e-04, 1.3387e-05, 1.4772e-04, 6.1124e-04, 9.9807e-01],\n",
      "        [8.8904e-04, 3.7398e-03, 1.3438e-03, 9.9727e-01, 9.8662e-01, 4.8117e-03,\n",
      "         6.4477e-03, 9.7614e-01, 6.8597e-04, 3.9494e-03, 1.6984e-04, 2.6993e-03,\n",
      "         8.5446e-04, 1.3802e-03, 5.9200e-03, 5.6453e-03, 1.8340e-04],\n",
      "        [9.9614e-01, 2.9084e-04, 4.6079e-04, 2.0390e-04, 2.0482e-03, 7.8383e-04,\n",
      "         1.2680e-03, 2.8078e-04, 1.7207e-04, 1.1531e-03, 9.9878e-01, 4.1168e-04,\n",
      "         4.0070e-04, 8.0427e-05, 4.7262e-04, 7.1951e-05, 9.9940e-01],\n",
      "        [8.1337e-04, 5.2254e-04, 9.9636e-04, 9.9816e-01, 1.9813e-03, 9.9259e-01,\n",
      "         1.1369e-03, 1.7205e-03, 9.9763e-04, 9.9751e-01, 5.7334e-04, 8.0965e-04,\n",
      "         6.7715e-04, 5.2264e-04, 9.9007e-04, 8.5975e-04, 1.0243e-03],\n",
      "        [3.9190e-05, 4.3090e-04, 2.7631e-03, 9.1040e-04, 9.9990e-01, 3.2441e-04,\n",
      "         9.9777e-01, 6.4755e-04, 1.5575e-04, 9.7589e-04, 1.0850e-04, 1.2689e-03,\n",
      "         3.8495e-04, 1.7659e-04, 9.9558e-01, 6.2690e-04, 7.9039e-04],\n",
      "        [1.4151e-04, 6.3591e-04, 1.8654e-04, 3.8214e-05, 9.9988e-01, 8.8932e-05,\n",
      "         4.5021e-04, 8.1397e-05, 8.7813e-05, 9.9516e-01, 1.0053e-03, 7.7555e-04,\n",
      "         7.4511e-05, 3.3982e-05, 1.3744e-04, 8.6245e-05, 9.9809e-01],\n",
      "        [1.7796e-03, 5.4332e-04, 9.8107e-01, 2.9146e-05, 9.9734e-01, 9.3387e-04,\n",
      "         8.2284e-03, 4.6219e-04, 2.2807e-03, 2.8769e-03, 2.5509e-03, 1.5143e-03,\n",
      "         8.7392e-04, 3.6215e-03, 9.9666e-01, 4.8069e-03, 1.8337e-03],\n",
      "        [9.9621e-04, 3.2027e-03, 6.4106e-04, 5.1821e-04, 7.5712e-04, 2.2492e-03,\n",
      "         9.8088e-04, 7.3577e-04, 9.1348e-04, 6.5937e-04, 9.9779e-01, 2.1048e-03,\n",
      "         9.9291e-01, 9.9639e-01, 7.1077e-04, 1.6665e-03, 5.8731e-04],\n",
      "        [9.9824e-01, 2.4263e-04, 3.4770e-04, 4.4236e-04, 4.7614e-04, 8.2500e-04,\n",
      "         5.6423e-04, 3.4727e-04, 2.0873e-04, 6.5850e-04, 9.9891e-01, 5.2031e-04,\n",
      "         4.2114e-04, 3.1050e-04, 2.6463e-04, 1.0279e-04, 9.9912e-01],\n",
      "        [1.9352e-04, 8.0536e-04, 2.2378e-04, 4.4344e-05, 9.9963e-01, 2.2868e-04,\n",
      "         1.2382e-04, 6.4338e-05, 1.6689e-04, 9.9826e-01, 1.2129e-03, 7.2256e-04,\n",
      "         8.3922e-05, 5.2416e-05, 5.2053e-05, 8.6533e-05, 9.9803e-01],\n",
      "        [6.1820e-04, 2.1757e-03, 2.0103e-03, 4.0580e-04, 9.9921e-01, 7.8335e-04,\n",
      "         9.2967e-04, 6.5376e-04, 7.4642e-04, 8.1715e-04, 1.9591e-03, 9.9291e-01,\n",
      "         1.3218e-03, 7.3027e-04, 1.9166e-03, 8.5693e-04, 9.9850e-01],\n",
      "        [9.3786e-04, 5.7167e-04, 1.1546e-03, 9.9610e-01, 6.1901e-04, 9.8996e-01,\n",
      "         2.3546e-03, 1.8746e-03, 5.9843e-04, 9.9917e-01, 6.2770e-04, 5.8632e-04,\n",
      "         8.5228e-04, 7.0145e-04, 7.7035e-04, 1.3337e-03, 1.0065e-03],\n",
      "        [1.6447e-04, 4.4670e-04, 4.3743e-03, 5.8254e-04, 9.9991e-01, 2.9682e-04,\n",
      "         9.9644e-01, 3.6051e-04, 1.1876e-04, 7.7643e-04, 2.8087e-04, 1.0613e-03,\n",
      "         1.3921e-04, 1.8006e-04, 9.9642e-01, 2.8322e-04, 5.6638e-04],\n",
      "        [9.9794e-01, 5.2332e-04, 3.0650e-04, 6.4714e-04, 1.8119e-04, 6.8893e-04,\n",
      "         3.8764e-04, 2.4087e-04, 3.5964e-04, 5.2079e-04, 9.9848e-01, 2.4443e-04,\n",
      "         3.8743e-04, 2.1755e-04, 1.7512e-04, 9.7071e-05, 9.9898e-01],\n",
      "        [1.0376e-04, 9.9692e-01, 6.4443e-04, 9.8731e-01, 9.9829e-01, 1.2019e-03,\n",
      "         1.2866e-03, 4.4064e-04, 2.4751e-03, 3.7755e-03, 5.4684e-04, 1.0107e-03,\n",
      "         1.3872e-03, 3.2289e-04, 3.7560e-04, 3.6580e-05, 2.8671e-03],\n",
      "        [7.5365e-05, 8.9795e-04, 2.8233e-04, 1.5143e-03, 9.9839e-01, 1.2977e-03,\n",
      "         6.7961e-05, 3.3798e-04, 3.8248e-04, 9.9921e-01, 9.9915e-01, 4.7027e-04,\n",
      "         4.7499e-04, 1.2335e-03, 1.3907e-04, 8.3284e-04, 9.0804e-04],\n",
      "        [9.9828e-01, 2.9285e-04, 3.4449e-04, 2.1430e-04, 4.7837e-04, 5.5447e-04,\n",
      "         3.5118e-04, 2.5963e-04, 2.5144e-04, 4.0123e-04, 9.9859e-01, 6.0594e-04,\n",
      "         5.5554e-04, 3.7052e-04, 2.2468e-04, 1.7682e-04, 9.9958e-01],\n",
      "        [6.2069e-05, 4.1647e-04, 2.7198e-04, 6.9102e-04, 9.9885e-01, 6.2913e-04,\n",
      "         6.1494e-04, 1.4376e-04, 6.5686e-05, 9.9935e-01, 9.9820e-01, 8.2454e-05,\n",
      "         1.7963e-04, 3.4226e-04, 4.5449e-04, 8.3613e-05, 4.5358e-04],\n",
      "        [4.1145e-05, 3.5959e-04, 4.7885e-04, 2.2452e-04, 9.9987e-01, 1.3564e-04,\n",
      "         3.3004e-04, 3.9152e-04, 1.7973e-05, 9.9794e-01, 9.9492e-01, 7.5980e-05,\n",
      "         2.8858e-04, 2.2996e-04, 1.0927e-03, 1.6790e-04, 1.5010e-03],\n",
      "        [1.1448e-04, 8.5769e-05, 4.6810e-04, 7.7158e-04, 4.8497e-04, 4.4542e-04,\n",
      "         4.8748e-04, 1.7412e-03, 2.2201e-03, 3.5672e-04, 9.9920e-01, 3.6920e-04,\n",
      "         1.4347e-03, 9.9348e-01, 4.4049e-04, 9.9669e-01, 1.6847e-03],\n",
      "        [2.1277e-04, 9.9402e-01, 1.5613e-03, 5.1508e-03, 9.9933e-01, 7.8015e-04,\n",
      "         6.0145e-04, 7.8708e-04, 1.0395e-03, 9.9100e-01, 1.6677e-04, 4.8446e-04,\n",
      "         3.5778e-03, 1.2502e-04, 5.2033e-04, 9.1301e-05, 4.7394e-03],\n",
      "        [8.5354e-05, 1.2928e-04, 9.1274e-04, 9.3710e-04, 3.1018e-04, 9.4237e-04,\n",
      "         8.2722e-04, 1.8007e-03, 3.8947e-03, 3.1222e-04, 9.9787e-01, 8.0163e-04,\n",
      "         3.8533e-03, 9.9793e-01, 7.7892e-04, 9.9710e-01, 1.7359e-03],\n",
      "        [7.4964e-04, 6.9538e-04, 1.0280e-03, 9.9776e-01, 1.1416e-03, 9.9112e-01,\n",
      "         1.2756e-03, 2.6096e-03, 6.3600e-04, 9.9503e-01, 2.3559e-03, 5.4210e-04,\n",
      "         9.0058e-04, 8.2771e-04, 6.5398e-04, 6.6133e-04, 6.1573e-05],\n",
      "        [7.2449e-04, 4.6395e-05, 1.6624e-04, 5.1311e-04, 3.3687e-04, 2.0867e-04,\n",
      "         3.5583e-04, 2.2077e-03, 7.8022e-04, 7.7271e-04, 9.9951e-01, 8.9158e-04,\n",
      "         1.1422e-04, 2.3110e-03, 1.3931e-04, 9.9795e-01, 9.9818e-01],\n",
      "        [1.6595e-03, 8.7964e-04, 6.4337e-04, 9.9825e-01, 4.4925e-04, 9.9197e-01,\n",
      "         1.1434e-03, 1.5371e-03, 9.0702e-04, 9.9756e-01, 1.0786e-03, 4.5688e-04,\n",
      "         1.0598e-03, 1.2984e-03, 2.6346e-04, 1.4031e-03, 9.6330e-04],\n",
      "        [2.3316e-05, 5.1570e-04, 2.9041e-04, 5.5007e-04, 9.9906e-01, 4.6843e-04,\n",
      "         2.2292e-04, 1.6222e-04, 9.5098e-05, 9.9948e-01, 9.9694e-01, 8.6945e-05,\n",
      "         1.2387e-04, 7.7088e-04, 2.5152e-04, 2.8778e-04, 4.6447e-04],\n",
      "        [6.2644e-04, 1.2002e-03, 4.5421e-04, 9.9665e-01, 7.5002e-04, 1.3025e-03,\n",
      "         1.3190e-03, 9.9329e-01, 2.5560e-03, 8.4560e-04, 5.4058e-04, 6.6704e-04,\n",
      "         5.3514e-04, 4.6469e-04, 9.9194e-04, 9.9431e-01, 1.7043e-03],\n",
      "        [9.8530e-05, 9.9466e-01, 5.8294e-04, 9.9453e-01, 9.9720e-01, 1.0590e-03,\n",
      "         1.9865e-03, 8.8957e-04, 1.2969e-03, 1.5585e-03, 1.0201e-03, 7.5681e-04,\n",
      "         9.5940e-04, 3.1951e-04, 5.8384e-04, 3.8014e-05, 1.3466e-03],\n",
      "        [9.9750e-01, 2.3047e-04, 5.0540e-04, 1.4500e-04, 4.5730e-04, 5.8088e-04,\n",
      "         1.9411e-04, 1.5372e-04, 4.1217e-04, 3.5677e-04, 9.9753e-01, 3.8611e-04,\n",
      "         4.0241e-04, 7.7151e-04, 1.9611e-04, 1.1873e-04, 9.9962e-01],\n",
      "        [2.0244e-03, 9.8971e-01, 4.7782e-04, 9.9390e-01, 2.7489e-04, 2.9088e-03,\n",
      "         1.8656e-03, 3.8953e-03, 9.8034e-01, 2.8549e-03, 8.9176e-04, 4.7315e-04,\n",
      "         1.4812e-03, 3.4916e-03, 6.0639e-05, 8.9048e-03, 6.2411e-03],\n",
      "        [7.3328e-04, 1.0275e-03, 6.4308e-04, 5.1227e-04, 4.3992e-04, 2.9990e-04,\n",
      "         2.2648e-04, 7.9103e-04, 9.9638e-01, 4.5252e-04, 1.4102e-04, 1.3351e-03,\n",
      "         2.8727e-04, 7.5699e-04, 3.8330e-04, 9.9820e-01, 9.9864e-01],\n",
      "        [2.0036e-04, 1.4782e-04, 2.7225e-03, 1.5915e-04, 9.9991e-01, 1.6364e-04,\n",
      "         9.9470e-01, 4.4969e-04, 9.3614e-05, 6.9514e-04, 8.3836e-04, 7.3849e-04,\n",
      "         4.1015e-04, 2.6188e-04, 9.9666e-01, 2.2634e-04, 5.3028e-04]])\n",
      "tensor([[0., 0., 0., 0., 1., 0., 1., 0., 0., 0., 0., 0., 0., 0., 1., 0., 0.],\n",
      "        [0., 0., 0., 0., 0., 0., 0., 0., 0., 0., 1., 0., 0., 0., 0., 1., 1.],\n",
      "        [0., 0., 0., 0., 0., 0., 0., 0., 1., 0., 0., 0., 0., 0., 0., 1., 1.],\n",
      "        [0., 1., 0., 0., 0., 0., 1., 0., 0., 0., 1., 0., 0., 0., 0., 0., 0.],\n",
      "        [0., 0., 0., 0., 1., 0., 1., 0., 0., 0., 0., 0., 0., 0., 1., 0., 0.],\n",
      "        [0., 0., 0., 0., 0., 0., 0., 0., 0., 0., 1., 0., 0., 1., 0., 0., 0.],\n",
      "        [0., 0., 0., 0., 1., 0., 0., 0., 0., 0., 1., 0., 0., 1., 0., 0., 0.],\n",
      "        [0., 0., 0., 0., 1., 0., 0., 0., 0., 1., 1., 0., 0., 0., 0., 0., 0.],\n",
      "        [0., 1., 0., 0., 1., 0., 0., 0., 0., 1., 0., 0., 0., 0., 0., 0., 0.],\n",
      "        [0., 0., 1., 0., 1., 0., 0., 0., 0., 0., 0., 0., 0., 0., 1., 0., 0.],\n",
      "        [0., 1., 0., 0., 1., 0., 0., 0., 0., 0., 0., 0., 1., 0., 0., 0., 0.],\n",
      "        [0., 0., 0., 0., 0., 0., 0., 0., 0., 0., 1., 0., 0., 1., 0., 0., 0.],\n",
      "        [1., 0., 0., 0., 0., 0., 0., 0., 0., 0., 1., 0., 0., 0., 0., 0., 1.],\n",
      "        [0., 0., 0., 0., 0., 0., 0., 0., 1., 0., 0., 0., 0., 1., 0., 1., 0.],\n",
      "        [0., 0., 0., 0., 0., 0., 0., 0., 0., 0., 1., 0., 0., 0., 1., 1., 0.],\n",
      "        [1., 0., 0., 0., 0., 0., 0., 0., 0., 0., 1., 0., 0., 0., 0., 0., 1.],\n",
      "        [1., 0., 0., 0., 0., 0., 0., 0., 0., 0., 1., 0., 0., 0., 0., 0., 1.],\n",
      "        [0., 1., 0., 0., 1., 0., 0., 0., 0., 0., 0., 0., 0., 0., 0., 0., 1.],\n",
      "        [0., 0., 0., 0., 1., 0., 0., 0., 0., 0., 0., 1., 0., 0., 0., 0., 1.],\n",
      "        [0., 0., 0., 0., 1., 0., 1., 0., 0., 0., 0., 0., 0., 0., 1., 0., 0.],\n",
      "        [0., 0., 0., 0., 1., 0., 0., 0., 0., 1., 0., 0., 0., 0., 0., 0., 1.],\n",
      "        [0., 0., 0., 1., 0., 0., 0., 1., 0., 0., 0., 0., 0., 0., 0., 1., 0.],\n",
      "        [0., 0., 0., 1., 0., 1., 0., 0., 0., 1., 0., 0., 0., 0., 0., 0., 0.],\n",
      "        [0., 1., 0., 0., 0., 0., 0., 0., 0., 0., 1., 0., 0., 0., 0., 0., 1.],\n",
      "        [1., 0., 0., 0., 0., 0., 0., 0., 0., 0., 1., 0., 0., 0., 0., 0., 1.],\n",
      "        [0., 0., 0., 0., 0., 0., 0., 0., 1., 0., 0., 0., 0., 0., 0., 1., 1.],\n",
      "        [0., 0., 0., 0., 0., 0., 0., 0., 0., 0., 1., 0., 0., 1., 0., 0., 0.],\n",
      "        [1., 0., 0., 0., 0., 0., 0., 0., 0., 0., 1., 0., 0., 0., 0., 0., 1.],\n",
      "        [0., 0., 0., 0., 1., 0., 0., 0., 0., 1., 0., 0., 0., 0., 0., 0., 1.],\n",
      "        [0., 0., 0., 0., 1., 0., 0., 0., 0., 1., 0., 0., 0., 0., 0., 0., 1.],\n",
      "        [0., 0., 0., 0., 0., 0., 0., 0., 1., 0., 0., 0., 0., 0., 0., 1., 1.],\n",
      "        [0., 0., 0., 0., 1., 0., 0., 0., 0., 0., 1., 0., 0., 1., 0., 0., 0.]])\n"
     ]
    },
    {
     "name": "stderr",
     "output_type": "stream",
     "text": [
      "100%|██████████| 4/4 [00:00<00:00, 22.79it/s]"
     ]
    },
    {
     "name": "stdout",
     "output_type": "stream",
     "text": [
      "tensor([[3.3248e-04, 1.9907e-04, 2.9412e-03, 4.0596e-04, 9.9973e-01, 2.3228e-04,\n",
      "         9.9769e-01, 9.1007e-04, 2.6947e-04, 1.6504e-04, 1.8002e-04, 8.8671e-04,\n",
      "         6.2454e-04, 6.0778e-04, 9.9775e-01, 5.0246e-04, 9.8071e-04],\n",
      "        [3.1631e-04, 4.9030e-04, 1.8773e-04, 6.8581e-04, 6.6332e-04, 1.9371e-04,\n",
      "         8.1405e-04, 6.8704e-04, 1.5852e-03, 9.9357e-04, 9.9711e-01, 3.0413e-04,\n",
      "         4.4919e-05, 1.2770e-04, 2.5641e-04, 9.9793e-01, 9.9883e-01],\n",
      "        [2.6823e-03, 5.6667e-04, 5.5172e-04, 5.8713e-04, 8.5226e-05, 3.1669e-04,\n",
      "         5.5049e-04, 4.4654e-04, 9.9346e-01, 5.8055e-04, 2.3403e-04, 5.0350e-04,\n",
      "         2.9357e-04, 8.2822e-04, 3.6142e-04, 9.9719e-01, 9.9929e-01],\n",
      "        [3.0487e-03, 9.9343e-01, 4.4180e-04, 9.2495e-04, 6.6463e-03, 6.6196e-04,\n",
      "         9.9378e-01, 1.4801e-04, 6.3824e-04, 3.6748e-03, 9.9494e-01, 2.0984e-04,\n",
      "         4.1572e-03, 1.9868e-03, 2.6071e-03, 2.1600e-03, 3.1316e-03],\n",
      "        [1.6774e-04, 1.6292e-04, 2.3591e-03, 1.6951e-04, 9.9992e-01, 1.5513e-04,\n",
      "         9.9448e-01, 4.6089e-04, 8.1637e-05, 9.3349e-04, 9.9280e-04, 6.5829e-04,\n",
      "         3.8221e-04, 2.3536e-04, 9.9609e-01, 2.1052e-04, 4.4095e-04],\n",
      "        [1.2051e-03, 2.6924e-04, 2.8196e-04, 8.3014e-04, 6.0110e-04, 6.2453e-04,\n",
      "         3.4215e-04, 1.3561e-04, 3.6190e-04, 1.3785e-04, 9.9971e-01, 1.8638e-04,\n",
      "         1.9026e-03, 9.9801e-01, 2.1933e-04, 3.9870e-04, 4.3930e-04],\n",
      "        [7.2734e-05, 2.8862e-04, 6.8706e-04, 3.0470e-04, 9.9305e-01, 8.6745e-05,\n",
      "         5.1661e-04, 7.9982e-04, 2.9075e-04, 1.1598e-03, 9.9714e-01, 2.2140e-04,\n",
      "         1.2368e-03, 9.9599e-01, 1.0153e-03, 6.8489e-04, 3.7511e-05],\n",
      "        [4.6355e-05, 4.5469e-04, 2.8141e-04, 9.1795e-04, 9.9852e-01, 8.1508e-04,\n",
      "         7.9692e-04, 1.5014e-04, 5.8542e-05, 9.9961e-01, 9.9695e-01, 8.4836e-05,\n",
      "         1.2793e-04, 3.7104e-04, 4.3001e-04, 1.1594e-04, 3.2616e-04],\n",
      "        [3.1248e-04, 9.8394e-01, 1.4407e-03, 2.2857e-03, 9.9769e-01, 9.0043e-04,\n",
      "         8.5419e-04, 7.0206e-04, 1.0845e-03, 9.9895e-01, 2.6426e-03, 2.8022e-04,\n",
      "         1.1942e-03, 2.9998e-04, 2.2386e-04, 1.3727e-04, 1.3357e-03],\n",
      "        [3.6712e-03, 2.8674e-04, 9.8199e-01, 3.0943e-04, 9.9647e-01, 2.9844e-03,\n",
      "         4.3201e-03, 1.2188e-03, 1.2351e-03, 2.1217e-03, 2.5754e-03, 1.1871e-03,\n",
      "         4.0886e-04, 1.1214e-03, 9.9847e-01, 3.2524e-03, 9.5318e-04],\n",
      "        [1.8459e-04, 9.9503e-01, 8.1251e-04, 3.8571e-03, 9.9649e-01, 1.0390e-03,\n",
      "         2.8006e-03, 9.5679e-04, 1.8177e-03, 2.3564e-03, 7.4532e-04, 8.6138e-04,\n",
      "         9.8211e-01, 1.7504e-03, 2.5236e-03, 6.7335e-04, 8.6432e-04],\n",
      "        [8.5422e-04, 1.7182e-04, 3.6232e-04, 1.8877e-04, 2.6351e-04, 1.2240e-03,\n",
      "         2.5153e-04, 3.9645e-05, 1.8421e-03, 1.0024e-03, 9.9843e-01, 3.2321e-04,\n",
      "         2.1387e-03, 9.9880e-01, 1.4563e-04, 4.1987e-04, 1.3446e-03],\n",
      "        [9.9709e-01, 4.8438e-04, 2.9536e-04, 3.0160e-04, 1.3151e-04, 7.9754e-04,\n",
      "         2.1251e-04, 2.5214e-04, 1.9240e-04, 4.4314e-04, 9.9873e-01, 5.2897e-04,\n",
      "         9.9745e-04, 1.0972e-03, 7.6568e-05, 1.4252e-04, 9.9950e-01],\n",
      "        [2.7729e-04, 3.8930e-03, 1.6034e-03, 2.8761e-03, 3.9832e-04, 1.6702e-03,\n",
      "         5.7082e-04, 1.5656e-03, 9.8571e-01, 3.7117e-04, 6.2179e-03, 6.3520e-04,\n",
      "         2.9967e-03, 9.8508e-01, 8.4838e-04, 9.9264e-01, 1.5720e-03],\n",
      "        [2.5386e-03, 4.7231e-05, 9.4248e-03, 8.6008e-04, 4.1036e-03, 1.4826e-03,\n",
      "         3.6908e-03, 2.3150e-03, 1.5234e-03, 1.5131e-04, 9.9444e-01, 5.1032e-04,\n",
      "         4.6960e-04, 1.2037e-03, 9.8088e-01, 9.9112e-01, 3.9110e-03],\n",
      "        [9.9738e-01, 1.8251e-04, 2.7550e-04, 3.0214e-04, 2.9975e-04, 4.7646e-04,\n",
      "         2.1534e-04, 3.5543e-04, 1.9938e-04, 6.6516e-04, 9.9882e-01, 2.1161e-04,\n",
      "         3.9265e-04, 4.0067e-04, 1.5579e-04, 1.5039e-04, 9.9929e-01],\n",
      "        [9.9773e-01, 1.7851e-04, 4.1318e-04, 1.2566e-04, 5.1962e-04, 6.1134e-04,\n",
      "         4.5690e-04, 2.3614e-04, 3.5482e-04, 4.6737e-04, 9.9884e-01, 8.3671e-04,\n",
      "         4.3990e-04, 7.3008e-04, 3.4183e-04, 2.1550e-04, 9.9972e-01],\n",
      "        [1.7779e-04, 9.7871e-01, 6.4613e-04, 1.8397e-03, 9.9873e-01, 2.4242e-05,\n",
      "         4.5394e-04, 1.5310e-04, 9.5234e-04, 1.4393e-03, 4.3543e-04, 1.0731e-03,\n",
      "         2.8323e-04, 1.3058e-05, 3.9322e-04, 3.0224e-04, 9.9519e-01],\n",
      "        [3.4848e-04, 1.3476e-03, 1.0243e-03, 8.6799e-04, 9.9977e-01, 5.9617e-04,\n",
      "         1.7356e-03, 5.6467e-04, 6.1410e-04, 2.5758e-03, 9.3266e-04, 9.8708e-01,\n",
      "         7.8472e-04, 2.9396e-04, 1.4402e-03, 4.4597e-04, 9.9754e-01],\n",
      "        [1.9049e-04, 3.9969e-04, 2.2279e-03, 7.4360e-04, 9.9997e-01, 3.2823e-04,\n",
      "         9.9510e-01, 1.1225e-03, 9.0489e-05, 6.5639e-04, 1.9747e-03, 1.5947e-03,\n",
      "         1.5795e-03, 5.2029e-04, 9.9394e-01, 7.4443e-05, 4.2783e-04],\n",
      "        [3.2528e-04, 1.0310e-03, 1.7577e-04, 1.3629e-04, 9.9877e-01, 3.1520e-04,\n",
      "         1.8693e-04, 2.5622e-05, 1.4827e-04, 9.9744e-01, 1.0254e-03, 4.2601e-04,\n",
      "         1.2793e-04, 3.0603e-05, 5.2042e-05, 1.4701e-05, 9.9826e-01],\n",
      "        [5.6489e-04, 1.3346e-03, 5.7719e-04, 9.9687e-01, 2.1474e-04, 1.6378e-03,\n",
      "         9.5861e-04, 9.9101e-01, 3.9139e-03, 1.0426e-03, 9.0242e-04, 7.7169e-04,\n",
      "         5.7549e-04, 1.2063e-03, 5.8280e-04, 9.9774e-01, 1.4073e-03],\n",
      "        [1.4843e-03, 6.7858e-04, 6.9597e-04, 9.9815e-01, 8.9578e-04, 9.8984e-01,\n",
      "         5.8639e-04, 3.4780e-03, 7.4891e-04, 9.9552e-01, 6.2580e-04, 5.6263e-04,\n",
      "         8.3318e-04, 4.7367e-04, 1.9421e-04, 1.2717e-03, 5.5942e-04],\n",
      "        [1.7642e-02, 9.7557e-01, 1.9401e-04, 1.6116e-03, 4.4249e-04, 1.3341e-04,\n",
      "         1.8823e-03, 8.0628e-05, 1.9365e-03, 1.0297e-03, 9.9694e-01, 2.9262e-04,\n",
      "         6.3135e-04, 6.0139e-04, 6.5684e-06, 1.1260e-03, 9.9750e-01],\n",
      "        [9.9868e-01, 3.1843e-04, 3.7710e-04, 5.6648e-04, 9.1919e-05, 7.6182e-04,\n",
      "         7.0577e-04, 6.5318e-04, 8.5291e-04, 4.5912e-04, 9.9968e-01, 1.1054e-03,\n",
      "         6.3307e-04, 1.9314e-03, 5.2519e-04, 6.4903e-04, 9.9881e-01],\n",
      "        [8.2738e-04, 4.5649e-04, 5.7403e-04, 1.8727e-04, 3.6090e-04, 1.3670e-04,\n",
      "         3.3397e-04, 4.5526e-04, 9.9546e-01, 1.9342e-04, 3.3683e-04, 9.0161e-04,\n",
      "         2.1186e-04, 1.6731e-03, 5.1647e-04, 9.9811e-01, 9.9854e-01],\n",
      "        [3.9592e-04, 8.0365e-04, 3.0499e-04, 9.2717e-04, 2.8586e-04, 6.8314e-04,\n",
      "         3.1155e-04, 1.2508e-04, 1.3274e-03, 1.5216e-04, 9.9608e-01, 1.5600e-04,\n",
      "         1.5143e-03, 9.9903e-01, 1.4303e-04, 8.8929e-04, 2.1438e-04],\n",
      "        [9.9780e-01, 2.8605e-04, 2.8903e-04, 2.2556e-04, 2.4784e-04, 4.5980e-04,\n",
      "         5.9521e-04, 3.2790e-04, 2.7755e-04, 3.7535e-04, 9.9954e-01, 3.8839e-04,\n",
      "         3.9075e-04, 3.1719e-04, 2.8133e-04, 3.2900e-04, 9.9932e-01],\n",
      "        [6.7335e-04, 4.6548e-04, 4.0263e-04, 1.0095e-04, 9.9917e-01, 5.3584e-04,\n",
      "         7.6096e-04, 2.5372e-04, 2.9842e-04, 9.9832e-01, 2.0205e-04, 1.2779e-03,\n",
      "         1.7026e-04, 4.4072e-05, 2.3100e-04, 1.2681e-04, 9.9906e-01],\n",
      "        [3.1137e-04, 2.5893e-04, 7.6858e-04, 2.5446e-05, 9.9930e-01, 5.6093e-04,\n",
      "         3.0329e-04, 9.9250e-05, 4.0590e-04, 9.9871e-01, 6.1761e-04, 1.3464e-03,\n",
      "         7.2472e-05, 5.9177e-05, 2.6976e-04, 5.4047e-04, 9.9877e-01],\n",
      "        [1.0452e-03, 7.5368e-04, 6.2884e-04, 1.8310e-04, 4.0421e-04, 1.3463e-04,\n",
      "         5.8734e-04, 6.6228e-04, 9.9628e-01, 1.3642e-04, 7.1472e-04, 1.1059e-03,\n",
      "         3.0082e-04, 1.0454e-03, 5.4804e-04, 9.9829e-01, 9.9944e-01],\n",
      "        [1.2387e-04, 4.2290e-04, 3.6531e-04, 4.3379e-04, 9.9587e-01, 5.5621e-05,\n",
      "         4.4303e-05, 3.6618e-04, 4.2484e-04, 3.8879e-03, 9.9709e-01, 1.7089e-04,\n",
      "         6.1740e-04, 9.8893e-01, 1.3042e-04, 2.4757e-04, 6.1950e-04]])\n",
      "tensor([[1., 0., 0., 0., 0., 0., 0., 0., 0., 0., 1., 0., 0., 0., 0., 0., 1.],\n",
      "        [1., 0., 0., 0., 0., 0., 0., 0., 0., 0., 1., 0., 0., 0., 0., 0., 1.],\n",
      "        [0., 0., 0., 1., 0., 0., 1., 0., 0., 1., 0., 0., 0., 0., 0., 0., 0.],\n",
      "        [0., 0., 0., 0., 1., 0., 0., 0., 0., 1., 0., 0., 0., 0., 0., 0., 1.],\n",
      "        [0., 0., 0., 0., 1., 0., 0., 0., 0., 1., 1., 0., 0., 0., 0., 0., 0.],\n",
      "        [0., 0., 0., 0., 1., 0., 0., 0., 0., 1., 0., 0., 0., 0., 0., 0., 1.],\n",
      "        [0., 0., 0., 0., 1., 0., 0., 0., 0., 0., 1., 0., 0., 0., 0., 0., 1.],\n",
      "        [0., 0., 0., 0., 0., 0., 0., 0., 1., 0., 0., 0., 0., 0., 0., 1., 1.],\n",
      "        [0., 0., 0., 0., 0., 0., 0., 0., 0., 0., 1., 0., 0., 1., 0., 0., 0.],\n",
      "        [0., 0., 0., 0., 1., 0., 1., 0., 0., 0., 0., 0., 0., 0., 1., 0., 0.],\n",
      "        [0., 0., 0., 0., 1., 0., 0., 0., 0., 1., 1., 0., 0., 0., 0., 0., 0.],\n",
      "        [0., 0., 0., 0., 1., 0., 0., 0., 0., 1., 1., 0., 0., 0., 0., 0., 0.],\n",
      "        [1., 0., 0., 0., 0., 0., 0., 0., 0., 0., 1., 0., 0., 0., 0., 0., 1.],\n",
      "        [1., 0., 0., 0., 0., 0., 0., 0., 0., 0., 1., 0., 0., 0., 0., 0., 1.],\n",
      "        [0., 0., 0., 0., 1., 0., 0., 0., 0., 0., 1., 0., 0., 0., 0., 0., 1.],\n",
      "        [0., 0., 0., 0., 1., 0., 1., 0., 0., 0., 0., 0., 0., 0., 1., 0., 0.],\n",
      "        [1., 0., 0., 0., 0., 0., 0., 0., 0., 0., 1., 0., 0., 0., 0., 0., 1.],\n",
      "        [0., 0., 0., 0., 1., 0., 1., 0., 0., 0., 0., 0., 0., 0., 1., 0., 0.],\n",
      "        [0., 0., 0., 0., 0., 0., 0., 0., 0., 0., 1., 0., 1., 1., 0., 0., 0.],\n",
      "        [0., 0., 0., 0., 0., 0., 0., 0., 1., 0., 0., 0., 0., 0., 0., 1., 1.],\n",
      "        [0., 0., 0., 0., 1., 0., 0., 0., 0., 1., 0., 0., 0., 0., 0., 0., 1.],\n",
      "        [0., 0., 0., 0., 1., 0., 0., 0., 0., 1., 0., 0., 0., 0., 0., 0., 1.],\n",
      "        [0., 0., 0., 0., 0., 0., 1., 0., 0., 0., 0., 0., 0., 0., 0., 1., 1.],\n",
      "        [0., 0., 0., 0., 1., 0., 1., 0., 0., 0., 0., 0., 0., 0., 1., 0., 0.],\n",
      "        [0., 1., 0., 1., 0., 0., 1., 0., 0., 0., 0., 0., 0., 0., 0., 0., 0.],\n",
      "        [0., 0., 0., 0., 0., 0., 0., 0., 0., 0., 1., 0., 1., 1., 0., 0., 0.],\n",
      "        [1., 0., 0., 0., 0., 0., 0., 0., 0., 0., 1., 0., 0., 0., 0., 0., 1.],\n",
      "        [0., 0., 0., 0., 0., 0., 1., 0., 0., 0., 1., 0., 0., 0., 0., 1., 0.],\n",
      "        [0., 0., 0., 0., 1., 0., 0., 0., 0., 1., 1., 0., 0., 0., 0., 0., 0.],\n",
      "        [0., 0., 0., 0., 0., 0., 0., 0., 1., 0., 0., 0., 0., 0., 0., 1., 1.],\n",
      "        [0., 0., 0., 0., 1., 0., 0., 0., 0., 1., 1., 0., 0., 0., 0., 0., 0.],\n",
      "        [0., 0., 0., 0., 1., 0., 0., 0., 0., 1., 1., 0., 0., 0., 0., 0., 0.]])\n",
      "tensor([[9.9696e-01, 2.2897e-04, 3.4438e-04, 2.1163e-04, 2.7603e-04, 3.7270e-04,\n",
      "         2.3092e-04, 1.6311e-04, 4.0056e-04, 3.6316e-04, 9.9533e-01, 2.3275e-04,\n",
      "         2.2017e-04, 3.8036e-04, 1.6413e-04, 1.5409e-04, 9.9974e-01],\n",
      "        [9.9854e-01, 2.9113e-04, 3.6402e-04, 5.4585e-04, 1.5291e-04, 7.3101e-04,\n",
      "         5.1828e-04, 5.3802e-04, 7.2373e-04, 6.1958e-04, 9.9973e-01, 7.5812e-04,\n",
      "         4.4768e-04, 1.0411e-03, 4.4095e-04, 3.9916e-04, 9.9848e-01],\n",
      "        [1.9867e-04, 4.9898e-03, 1.5624e-04, 9.9243e-01, 5.6757e-03, 1.4174e-02,\n",
      "         9.9493e-01, 2.7821e-03, 6.8550e-04, 9.8644e-01, 7.9005e-04, 3.1209e-04,\n",
      "         3.2315e-04, 9.3680e-05, 4.3382e-03, 4.7130e-04, 3.5280e-03],\n",
      "        [1.8580e-04, 8.7818e-04, 3.1003e-04, 2.9615e-05, 9.9989e-01, 9.1757e-05,\n",
      "         5.6476e-04, 7.0933e-05, 1.1949e-04, 9.9488e-01, 9.1082e-04, 1.0124e-03,\n",
      "         9.7100e-05, 6.0201e-05, 1.9911e-04, 9.0713e-05, 9.9822e-01],\n",
      "        [1.8647e-04, 5.7221e-04, 8.9852e-04, 2.0876e-04, 9.9991e-01, 3.8449e-04,\n",
      "         4.5940e-04, 6.1264e-04, 9.8023e-05, 9.9876e-01, 9.9814e-01, 2.6821e-04,\n",
      "         1.9083e-04, 3.1229e-04, 1.5166e-03, 4.6424e-04, 2.3495e-03],\n",
      "        [9.7633e-05, 9.4164e-04, 4.9374e-04, 8.9741e-05, 9.9900e-01, 2.1635e-04,\n",
      "         1.6816e-03, 2.0266e-04, 1.2655e-03, 9.9444e-01, 6.0890e-05, 1.4219e-03,\n",
      "         2.4209e-04, 6.0270e-05, 4.1939e-04, 9.5161e-04, 9.9955e-01],\n",
      "        [5.1746e-03, 9.2838e-04, 1.9309e-04, 5.5578e-05, 9.9598e-01, 9.4288e-06,\n",
      "         2.2450e-04, 7.3570e-04, 7.9809e-05, 2.5175e-03, 9.9993e-01, 1.2810e-03,\n",
      "         1.2768e-04, 2.5842e-04, 3.3098e-04, 2.1116e-03, 9.9764e-01],\n",
      "        [9.8512e-04, 3.6492e-04, 4.4421e-04, 4.6004e-04, 2.2227e-04, 2.0768e-04,\n",
      "         2.1901e-04, 4.9074e-04, 9.9516e-01, 3.7496e-04, 6.0812e-04, 5.0953e-04,\n",
      "         1.6562e-04, 5.0079e-04, 3.1617e-04, 9.9790e-01, 9.9935e-01],\n",
      "        [1.7596e-03, 7.6476e-04, 1.6302e-04, 2.3242e-03, 4.7158e-04, 6.1533e-04,\n",
      "         2.3614e-04, 1.1465e-04, 2.7970e-04, 1.3761e-04, 9.9849e-01, 2.4183e-04,\n",
      "         4.0777e-03, 9.9717e-01, 1.0384e-04, 4.5904e-05, 1.1301e-03],\n",
      "        [1.2499e-04, 2.6873e-04, 2.1839e-03, 8.6532e-04, 9.9988e-01, 1.8446e-04,\n",
      "         9.9719e-01, 4.1681e-04, 8.2819e-05, 4.8129e-04, 4.2205e-04, 8.6064e-04,\n",
      "         3.6147e-04, 1.5922e-04, 9.9482e-01, 1.3802e-04, 8.9461e-04],\n",
      "        [4.1691e-04, 1.9162e-04, 4.5835e-04, 2.4896e-04, 9.9875e-01, 4.7387e-04,\n",
      "         1.1097e-03, 3.5334e-04, 9.0864e-05, 9.9821e-01, 9.9983e-01, 3.2291e-04,\n",
      "         4.7679e-04, 1.1071e-03, 1.0075e-03, 1.9210e-04, 1.9232e-03],\n",
      "        [3.8163e-05, 5.9030e-04, 2.9221e-04, 4.6640e-04, 9.9938e-01, 6.0119e-04,\n",
      "         1.5869e-04, 1.7047e-04, 3.1208e-04, 9.9930e-01, 9.9866e-01, 2.4350e-04,\n",
      "         3.0650e-04, 1.3429e-03, 2.5265e-04, 6.0832e-04, 9.2458e-04],\n",
      "        [9.9914e-01, 9.3724e-04, 6.0617e-04, 1.4708e-03, 9.8163e-04, 1.9669e-03,\n",
      "         1.5863e-03, 8.9818e-04, 3.7161e-04, 2.3982e-03, 9.9711e-01, 1.3362e-03,\n",
      "         4.1881e-04, 2.3438e-04, 4.0839e-04, 1.0264e-04, 9.9943e-01],\n",
      "        [9.9808e-01, 8.3834e-04, 5.1871e-04, 7.0734e-04, 6.3085e-04, 8.0999e-04,\n",
      "         5.2763e-04, 3.0508e-04, 5.0100e-04, 3.8320e-04, 9.9895e-01, 3.0647e-04,\n",
      "         2.1018e-04, 2.0741e-04, 4.3193e-04, 1.3784e-04, 9.9930e-01],\n",
      "        [1.8046e-03, 4.8238e-04, 1.4826e-04, 7.6771e-06, 9.9793e-01, 3.7266e-06,\n",
      "         6.5601e-05, 1.5436e-04, 5.8322e-05, 2.4382e-03, 9.9955e-01, 7.4287e-04,\n",
      "         2.8972e-04, 3.1359e-04, 1.7667e-04, 1.3441e-03, 9.9888e-01],\n",
      "        [1.9176e-04, 1.8895e-04, 1.7992e-03, 9.0995e-04, 9.9993e-01, 3.3857e-04,\n",
      "         9.9536e-01, 5.9304e-04, 1.4211e-04, 3.9882e-04, 3.3367e-04, 1.8998e-03,\n",
      "         3.2009e-04, 2.5216e-04, 9.9502e-01, 1.2575e-04, 8.8865e-04],\n",
      "        [9.9833e-01, 2.9238e-04, 2.9786e-04, 2.8017e-04, 3.5273e-04, 6.5158e-04,\n",
      "         6.4286e-04, 2.3473e-04, 3.5823e-04, 4.6632e-04, 9.9934e-01, 4.1097e-04,\n",
      "         2.7680e-04, 2.6707e-04, 2.4362e-04, 2.2170e-04, 9.9909e-01],\n",
      "        [2.4006e-04, 6.5281e-04, 4.5225e-03, 6.8030e-04, 9.9999e-01, 3.3667e-04,\n",
      "         9.8717e-01, 1.1396e-03, 5.2267e-05, 8.2198e-04, 1.4568e-03, 2.8086e-03,\n",
      "         9.8475e-04, 4.6800e-04, 9.9296e-01, 6.3995e-05, 9.4597e-04],\n",
      "        [8.3480e-04, 2.5048e-03, 4.4818e-04, 1.3774e-03, 1.5566e-03, 3.1970e-03,\n",
      "         8.5530e-04, 8.7056e-04, 5.5935e-04, 6.1785e-04, 9.9726e-01, 1.4444e-03,\n",
      "         9.9086e-01, 9.9706e-01, 7.9206e-04, 6.9829e-04, 2.8374e-04],\n",
      "        [8.4180e-04, 6.5721e-04, 7.5329e-04, 1.0334e-04, 6.9321e-04, 1.8263e-04,\n",
      "         3.1479e-04, 3.8318e-04, 9.9097e-01, 4.9310e-04, 2.0060e-03, 1.4276e-03,\n",
      "         2.7707e-04, 7.9524e-04, 3.1838e-04, 9.9783e-01, 9.9992e-01],\n",
      "        [2.6501e-04, 8.3350e-04, 1.5788e-04, 6.1813e-05, 9.9942e-01, 1.9009e-04,\n",
      "         2.8014e-04, 1.0174e-04, 1.6301e-04, 9.9376e-01, 5.2564e-04, 6.7579e-04,\n",
      "         1.1107e-04, 2.3409e-05, 8.2687e-05, 1.0636e-04, 9.9954e-01],\n",
      "        [9.7334e-05, 8.3860e-04, 2.7514e-04, 1.3487e-04, 9.9906e-01, 4.1805e-04,\n",
      "         4.6584e-04, 9.0484e-05, 4.7135e-04, 9.9902e-01, 1.9738e-04, 5.2009e-04,\n",
      "         1.2742e-04, 4.5497e-05, 1.0612e-04, 3.4651e-04, 9.9862e-01],\n",
      "        [1.4120e-04, 2.2496e-03, 2.6716e-04, 4.4356e-03, 6.0612e-03, 8.5432e-04,\n",
      "         9.9355e-01, 1.7179e-03, 9.1457e-03, 6.9629e-03, 1.8342e-05, 2.1671e-03,\n",
      "         2.4626e-03, 3.5786e-04, 1.0954e-02, 9.7493e-01, 9.8305e-01],\n",
      "        [2.9480e-04, 2.4768e-04, 2.4139e-03, 5.9527e-04, 9.9970e-01, 2.2359e-04,\n",
      "         9.9789e-01, 9.0060e-04, 2.5511e-04, 1.5392e-04, 1.7072e-04, 8.0821e-04,\n",
      "         6.2929e-04, 6.1423e-04, 9.9747e-01, 4.1578e-04, 7.8575e-04],\n",
      "        [6.7161e-04, 9.9136e-01, 4.8296e-05, 9.8759e-01, 5.2025e-04, 2.6617e-03,\n",
      "         9.8890e-01, 1.8406e-03, 2.0549e-03, 1.3947e-03, 2.9374e-03, 3.5999e-04,\n",
      "         2.2877e-03, 4.3062e-04, 6.7827e-04, 1.3113e-03, 1.2372e-03],\n",
      "        [4.3840e-04, 3.9902e-03, 4.2176e-04, 1.1803e-03, 2.1546e-03, 2.0412e-03,\n",
      "         1.6458e-03, 9.0880e-04, 8.4109e-04, 5.5241e-04, 9.9848e-01, 1.3075e-03,\n",
      "         9.8597e-01, 9.9815e-01, 9.6506e-04, 1.2099e-03, 1.2574e-04],\n",
      "        [9.9764e-01, 1.2051e-04, 3.9925e-04, 1.7809e-04, 3.9286e-04, 4.5185e-04,\n",
      "         2.7124e-04, 2.0935e-04, 3.8865e-04, 2.8325e-04, 9.9847e-01, 2.9341e-04,\n",
      "         2.4890e-04, 6.0970e-04, 3.5318e-04, 1.5357e-04, 9.9923e-01],\n",
      "        [2.7683e-05, 1.4786e-03, 1.0963e-04, 1.3895e-03, 1.4715e-03, 2.4770e-04,\n",
      "         9.8686e-01, 8.0253e-04, 6.9773e-04, 2.1374e-03, 9.8993e-01, 7.7064e-05,\n",
      "         1.5647e-04, 2.6971e-03, 4.7296e-03, 9.9129e-01, 6.3510e-04],\n",
      "        [1.3603e-04, 6.3634e-04, 3.1865e-04, 5.5760e-04, 9.9890e-01, 5.7157e-04,\n",
      "         4.0328e-04, 1.7706e-04, 1.3047e-04, 9.9900e-01, 9.9948e-01, 9.0850e-05,\n",
      "         2.8573e-04, 6.7117e-04, 4.1091e-04, 1.6235e-04, 8.8708e-04],\n",
      "        [1.4674e-03, 9.9010e-04, 7.5275e-04, 3.1933e-04, 6.9747e-04, 1.0029e-04,\n",
      "         1.3556e-04, 8.1285e-04, 9.9635e-01, 8.3310e-05, 1.1223e-03, 1.0427e-03,\n",
      "         1.7950e-04, 1.4040e-03, 4.3826e-04, 9.9759e-01, 9.9955e-01],\n",
      "        [9.7177e-05, 5.9636e-04, 3.4868e-04, 3.1685e-04, 9.9816e-01, 5.8724e-04,\n",
      "         2.1729e-04, 2.0407e-04, 2.6398e-04, 9.9937e-01, 9.9892e-01, 1.4011e-04,\n",
      "         5.8032e-04, 5.6636e-04, 3.1093e-04, 4.6183e-04, 6.7966e-04],\n",
      "        [1.5261e-04, 3.2556e-03, 8.8652e-04, 2.7315e-04, 9.9967e-01, 7.0896e-04,\n",
      "         1.0067e-03, 2.1374e-04, 2.2042e-04, 9.9984e-01, 9.9496e-01, 4.6101e-04,\n",
      "         4.9182e-04, 5.8860e-04, 8.0965e-04, 2.4023e-04, 9.3928e-04]])\n",
      "tensor([[0., 0., 0., 0., 1., 0., 0., 0., 0., 0., 0., 1., 0., 0., 0., 0., 1.],\n",
      "        [0., 0., 0., 1., 0., 0., 0., 1., 0., 0., 0., 0., 0., 0., 0., 1., 0.],\n",
      "        [0., 0., 0., 0., 0., 0., 0., 0., 0., 0., 1., 0., 0., 1., 0., 0., 0.],\n",
      "        [0., 1., 0., 0., 1., 0., 0., 0., 0., 0., 0., 0., 1., 0., 0., 0., 0.],\n",
      "        [0., 0., 0., 0., 1., 0., 0., 0., 0., 0., 0., 1., 0., 0., 0., 0., 1.],\n",
      "        [0., 0., 0., 0., 0., 0., 0., 0., 1., 0., 0., 0., 0., 0., 0., 1., 1.],\n",
      "        [0., 0., 0., 1., 0., 0., 0., 1., 0., 0., 0., 0., 0., 0., 0., 1., 0.]])\n",
      "tensor([[4.9922e-04, 1.9223e-03, 1.1014e-03, 2.5652e-04, 9.9950e-01, 4.0998e-04,\n",
      "         5.7498e-04, 4.7213e-04, 2.5581e-04, 1.2876e-03, 1.9729e-03, 9.8464e-01,\n",
      "         1.2761e-03, 6.7392e-04, 1.3985e-03, 3.8508e-04, 9.9834e-01],\n",
      "        [1.1424e-03, 1.4155e-03, 4.3359e-04, 9.9852e-01, 2.6927e-04, 2.9291e-03,\n",
      "         2.0122e-03, 9.9428e-01, 1.0660e-03, 1.5709e-03, 1.9090e-03, 9.7208e-04,\n",
      "         6.2546e-04, 1.1914e-03, 4.5894e-04, 9.9067e-01, 1.4138e-03],\n",
      "        [2.9084e-04, 5.4557e-04, 2.2362e-04, 3.0880e-04, 1.1935e-04, 4.2174e-04,\n",
      "         2.0853e-04, 4.6051e-05, 2.0373e-03, 2.0142e-04, 9.9867e-01, 1.9695e-04,\n",
      "         4.6345e-03, 9.9895e-01, 8.3089e-05, 1.3235e-03, 1.3148e-03],\n",
      "        [3.3710e-04, 9.9010e-01, 1.5961e-03, 1.9164e-03, 9.9122e-01, 6.5017e-04,\n",
      "         2.7074e-03, 1.3089e-03, 3.0527e-03, 7.0878e-04, 1.1727e-03, 9.5258e-04,\n",
      "         9.9272e-01, 3.2996e-03, 4.9132e-03, 1.1857e-03, 1.5404e-03],\n",
      "        [1.0771e-03, 1.6109e-03, 1.3914e-03, 5.9950e-04, 9.9940e-01, 6.9308e-04,\n",
      "         1.6574e-03, 1.9164e-03, 6.2264e-04, 8.8420e-04, 2.3130e-03, 9.9432e-01,\n",
      "         2.0404e-03, 7.2290e-04, 1.7479e-03, 9.8001e-04, 9.9805e-01],\n",
      "        [2.7084e-04, 1.0586e-03, 5.4356e-04, 1.1611e-03, 2.6621e-04, 3.1077e-04,\n",
      "         3.3956e-04, 8.9844e-04, 9.9417e-01, 4.8530e-04, 1.1057e-04, 1.0491e-03,\n",
      "         2.0428e-04, 4.4943e-04, 2.7531e-04, 9.9857e-01, 9.9883e-01],\n",
      "        [5.5059e-04, 1.2212e-03, 4.3874e-04, 9.9658e-01, 4.5120e-04, 1.5461e-03,\n",
      "         1.6952e-03, 9.9379e-01, 2.9534e-03, 1.0335e-03, 5.1146e-04, 1.1789e-03,\n",
      "         6.4220e-04, 5.4779e-04, 6.4850e-04, 9.9656e-01, 3.4168e-03]])\n",
      "Training set accuracy: 1.0000\n"
     ]
    },
    {
     "name": "stderr",
     "output_type": "stream",
     "text": [
      "\n"
     ]
    }
   ],
   "source": [
    "model.evaluate()"
   ]
  },
  {
   "cell_type": "code",
   "execution_count": null,
   "metadata": {},
   "outputs": [],
   "source": []
  }
 ],
 "metadata": {
  "kernelspec": {
   "display_name": "quilt",
   "language": "python",
   "name": "python3"
  },
  "language_info": {
   "codemirror_mode": {
    "name": "ipython",
    "version": 3
   },
   "file_extension": ".py",
   "mimetype": "text/x-python",
   "name": "python",
   "nbconvert_exporter": "python",
   "pygments_lexer": "ipython3",
   "version": "3.11.9"
  }
 },
 "nbformat": 4,
 "nbformat_minor": 2
}
